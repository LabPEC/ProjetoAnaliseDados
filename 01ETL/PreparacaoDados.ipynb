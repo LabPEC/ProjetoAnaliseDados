{
 "cells": [
  {
   "cell_type": "markdown",
   "metadata": {},
   "source": [
    "**Projeto Análise de Dados**\n",
    "\n",
    "\n",
    "*Este bloco de notas contém todo o código usado para seleção, limpeza e transformação (extração, transformação, carregamento ou ETL, do inglês Extract Transform Load)  das fontes de dados de bairros e atividades econômicas para aplicação das técnicas de análise de dados a serem estudadas*\n",
    "\n",
    "Este bloco de notas recebe como entrada um arquivo de atividades econômicas do Estado do Espírito Santo (ATIVECO_ES) anonimizado e dois arquivos públicos extraídos das plataformas do IBGE. Um arquivo que descreve a estrutura detalhada da CNAE-Subclasses 2.3 (códigos nacionais e suas respectivas atividades econômicas). O outro arquivo contém os códigos e os bairros dos municípios da Grande Vitória (GV): Cariacica, Serra, Viana, Vila Velha e Vitória. Os códigos dos bairros da GV foram definidos pelo IBGE pois seus municípios tiveram suas leis de bairros aprovadas até agosto de 2010.\n",
    "\n",
    "\n",
    "Como saída do processamento desse bloco de notas, tem-se um arquivo contendo uma tabela cujas linhas contêm os bairros presentes no arquivo ATIVECO_ES (mapeadas para os códigos de bairros do IBGE) e cujas colunas contêm as atividades presentes no arquivo ATIVECO_ES (mapeadas para os códigos de atividades do CNAE). \n",
    "O conteúdo de cada célula da tabela contém a quantidade daquela atividade (coluna) naquele bairro (linha).\n",
    "O arquivo de saida servirá de entrada para o próximo módulo (bloco de notas) de Exploração dos Dados."
   ]
  },
  {
   "cell_type": "markdown",
   "metadata": {},
   "source": [
    "# Setup"
   ]
  },
  {
   "cell_type": "markdown",
   "metadata": {},
   "source": [
    "Primeiro, vamos importar alguns módulos comuns, garantir que o MatplotLib plote figuras em linha e preparar uma função para salvar as figuras. Também verificamos se o Python 3.5 ou posterior está instalado (embora o Python 2.x possa funcionar, ele está obsoleto, por isso recomendamos fortemente que seja usado o Python 3), bem como o Scikit-Learn ≥0.20."
   ]
  },
  {
   "cell_type": "code",
   "execution_count": 1,
   "metadata": {},
   "outputs": [],
   "source": [
    "# Python ≥3.5 is required\n",
    "import sys\n",
    "assert sys.version_info >= (3, 5)\n",
    "\n",
    "# Scikit-Learn ≥0.20 is required\n",
    "import sklearn\n",
    "assert sklearn.__version__ >= \"0.20\"\n",
    "\n",
    "# Common imports\n",
    "import numpy as np\n",
    "import os\n",
    "\n",
    "# To plot pretty figures\n",
    "%matplotlib inline\n",
    "import matplotlib as mpl\n",
    "import matplotlib.pyplot as plt\n",
    "mpl.rc('axes', labelsize=14)\n",
    "mpl.rc('xtick', labelsize=12)\n",
    "mpl.rc('ytick', labelsize=12)\n",
    "\n",
    "DATA_PATH_INPUT= os.path.join(\".\", \"INPUT\")\n",
    "DATA_PATH_OUTPUT = os.path.join(\".\",\"OUTPUT\")\n",
    "\n",
    "def save_fig(fig_id, tight_layout=True, fig_extension=\"png\", resolution=300):\n",
    "    path = os.path.join(DATA_PATH_OUTPUT_BA, fig_id + \".\" + fig_extension)\n",
    "    print(\"Saving figure\", fig_id)\n",
    "    if tight_layout:\n",
    "        plt.tight_layout()\n",
    "    plt.savefig(path, format=fig_extension, dpi=resolution)"
   ]
  },
  {
   "cell_type": "markdown",
   "metadata": {},
   "source": [
    "# Carregando os dados dos arquivos físicos"
   ]
  },
  {
   "cell_type": "code",
   "execution_count": 2,
   "metadata": {},
   "outputs": [],
   "source": [
    "import os\n",
    "import tarfile\n",
    "\n",
    "\n",
    "def fetch_data_ativeco_ES(data_path=DATA_PATH_INPUT):\n",
    "    if not os.path.isdir(data_path):\n",
    "        os.makedirs(data_path)\n",
    "    tgz_path = os.path.join(data_path, \"AtividadesEconomicas_ES.csv.tar.gz\")\n",
    "    data_tgz = tarfile.open(tgz_path)\n",
    "    data_tgz.extractall(path=data_path)\n",
    "    data_tgz.close()\n",
    "\n",
    "    "
   ]
  },
  {
   "cell_type": "code",
   "execution_count": 3,
   "metadata": {},
   "outputs": [],
   "source": [
    "import pandas as pd\n",
    "\n",
    "def load_data_ativeco_ES(data_path=DATA_PATH_INPUT):\n",
    "    ### The csv was extracted from a tar.gz by function fetch_data() ### main choise\n",
    "    csv_path = os.path.join(data_path, \"AtividadesEconomicas_ES.csv\")\n",
    "    return pd.read_csv(csv_path)\n",
    "    \n",
    "    ### if we want load from the original xlsx file ### slower than main choise\n",
    "    #xlsx_path = os.path.join(data_path, \"ativeco_ES_2021_Ver01.xlsx\")\n",
    "    #wb = pd.read_excel(xlsx_path)\n",
    "    #return wb     \n",
    "    ### if we want generate a csv from the original xlsx file ### \n",
    "    #df = pd.DataFrame(wb)\n",
    "    #csv_path = os.path.join(data_path, \"ativeco_ES_2021_Ver01.csv\")\n",
    "    #df.to_csv(csv_path,sep=',',index=False, encoding='utf-8')\n",
    "   \n"
   ]
  },
  {
   "cell_type": "markdown",
   "metadata": {},
   "source": [
    "# Limpeza e preparação da base de dados ativeco_ES"
   ]
  },
  {
   "cell_type": "markdown",
   "metadata": {},
   "source": [
    "\n",
    "## Apenas municípios da Grande Vitória\n",
    "\n",
    " - CARIACICA\n",
    " - SERRA\n",
    " - VIANA\n",
    " - VILA VELHA\n",
    " - VITORIA"
   ]
  },
  {
   "cell_type": "code",
   "execution_count": 4,
   "metadata": {},
   "outputs": [
    {
     "name": "stdout",
     "output_type": "stream",
     "text": [
      "00 (278060, 11)\n"
     ]
    }
   ],
   "source": [
    "### Load original ativeco_ES database\n",
    "fetch_data_ativeco_ES()\n",
    "ativeco_ES = load_data_ativeco_ES()\n",
    "#print(ativeco_ES.shape)\n",
    "\n",
    "### turn all columns into object\n",
    "ativeco_ES[\"CNPJ\"] = ativeco_ES[\"CNPJ\"].astype(str)\n",
    "ativeco_ES[\"NR_CEP\"] = ativeco_ES[\"NR_CEP\"].astype(str)\n",
    "\n",
    "### Select only municipalities from grande vitoria\n",
    "ativeco_ESGV = ativeco_ES.loc[ativeco_ES['NO_MUNICIPIO'].isin([\"CARIACICA\",\"SERRA\",\"VIANA\",\"VILA VELHA\",\"VITÓRIA\"])]\n",
    "\n",
    "### Reindex rows starting again from zero\n",
    "# If we do not want to add the new column, we can use the drop parameter\n",
    "# We can use the parameter inplace to reset the index in the existing DataFrame rather than create a new copy\n",
    "ativeco_ESGV.reset_index(inplace=True,drop=True)\n",
    "\n",
    "### Send to csv file\n",
    "csv_path = os.path.join(DATA_PATH_OUTPUT, \"00ativeco_ESGV.csv\")\n",
    "ativeco_ESGV.to_csv(csv_path, index=True, header=True)\n",
    "print(\"00\", ativeco_ESGV.shape)"
   ]
  },
  {
   "cell_type": "markdown",
   "metadata": {},
   "source": [
    "\n",
    "## Limpeza CNPJ \n",
    "\n",
    "- Remover linhas com NaN na coluna CNPJ\n",
    "- Verificar ocorrência de mais de um CNPJ e remover"
   ]
  },
  {
   "cell_type": "markdown",
   "metadata": {},
   "source": [
    "\n",
    "###  Remover linhas com NaN na coluna CNPJ"
   ]
  },
  {
   "cell_type": "code",
   "execution_count": 5,
   "metadata": {},
   "outputs": [
    {
     "name": "stdout",
     "output_type": "stream",
     "text": [
      "00 (278060, 11)\n",
      "01 (269243, 11)\n"
     ]
    }
   ],
   "source": [
    "### number of rows\n",
    "print(\"00\", ativeco_ESGV.shape)\n",
    "\n",
    "### Remove NaNs (which currently contain the string 'nan' due to int64 to object conversion)\n",
    "ativeco_ESGV = ativeco_ESGV.replace('nan',np.nan)\n",
    "ativeco_ESGV = ativeco_ESGV.dropna(subset=[\"CNPJ\"])\n",
    "\n",
    "### Reindex rows starting again from zero\n",
    "# If we do not want to add the new column, we can use the drop parameter.\n",
    "# We can use the parameter inplace to reset the index in the existing DataFrame rather than create a new copy.\n",
    "ativeco_ESGV.reset_index(inplace=True,drop=True)\n",
    "\n",
    "\n",
    "#### Send to csv file\n",
    "csv_path = os.path.join(DATA_PATH_OUTPUT, \"01ativeco_ESGV_CNPJ-Dropna.csv\")\n",
    "ativeco_ESGV.to_csv(csv_path, index=True, header=True)\n",
    "print(\"01\", ativeco_ESGV.shape)"
   ]
  },
  {
   "cell_type": "markdown",
   "metadata": {},
   "source": [
    "### Verificar ocorrência de mais de um CNPJ e remover"
   ]
  },
  {
   "cell_type": "code",
   "execution_count": 6,
   "metadata": {},
   "outputs": [
    {
     "name": "stdout",
     "output_type": "stream",
     "text": [
      "12100748000145.0    3\n",
      "7188015000174.0     2\n",
      "22144512000164.0    2\n",
      "27418289000110.0    2\n",
      "14203274000192.0    2\n",
      "                   ..\n",
      "4604275000195.0     1\n",
      "4601143000100.0     1\n",
      "4642928000120.0     1\n",
      "4650498000199.0     1\n",
      "21723386000130.0    1\n",
      "Name: CNPJ, Length: 269127, dtype: int64\n"
     ]
    }
   ],
   "source": [
    "### Prints how many times a CNPJ appears\n",
    "print(ativeco_ESGV[\"CNPJ\"].value_counts())"
   ]
  },
  {
   "cell_type": "code",
   "execution_count": 7,
   "metadata": {},
   "outputs": [
    {
     "name": "stdout",
     "output_type": "stream",
     "text": [
      "                              NOMEEMPRESA              CNPJ DS_LOGRADOURO  \\\n",
      "159844         POLO BEER COMERCIO LTDA ME  26568240000180.0         CEDRO   \n",
      "177210  GIOVANNY SOARES SILVA 15210860795  26568240000180.0    RUA BRAUNA   \n",
      "\n",
      "                NO_BAIRRO                   DS_ATIVIDADE  \n",
      "159844  VISTA DA SERRA II  COMÉRCIO VAREJISTA DE BEBIDAS  \n",
      "177210  VISTA DA SERRA II  COMÉRCIO VAREJISTA DE BEBIDAS  \n"
     ]
    }
   ],
   "source": [
    "### Print example of a CNPJ that appears more than once\n",
    "# Checking the JUCCES companies consultation (https://jucees.es.gov.br/consulta-empresas)\n",
    "# in the case of the example GIOVANNY is the owner of POLO BEER COMERCIO and entries are equivalent\n",
    "# same happened with other examples, remove duplicate and keep either one\n",
    "print(ativeco_ESGV[ativeco_ESGV[\"CNPJ\"] == \"26568240000180.0\"][[\"NOMEEMPRESA\",\"CNPJ\",\"DS_LOGRADOURO\",\"NO_BAIRRO\",\"DS_ATIVIDADE\"]])"
   ]
  },
  {
   "cell_type": "code",
   "execution_count": 8,
   "metadata": {},
   "outputs": [
    {
     "name": "stdout",
     "output_type": "stream",
     "text": [
      "01 (269243, 11)\n",
      "02 (269127, 11)\n"
     ]
    }
   ],
   "source": [
    "### keep only the first occurrence of the line that has a duplicate CNPJ\n",
    "print(\"01\", ativeco_ESGV.shape)\n",
    "ativeco_ESGV = ativeco_ESGV.drop_duplicates(subset='CNPJ', keep='first')\n",
    "\n",
    "### Reindex rows starting again from zero\n",
    "# If we do not want to add the new column, we can use the drop parameter.\n",
    "# We can use the parameter inplace to reset the index in the existing DataFrame rather than create a new copy.\n",
    "ativeco_ESGV.reset_index(inplace=True,drop=True)\n",
    "\n",
    "\n",
    "#### Send to csv file\n",
    "csv_path = os.path.join(DATA_PATH_OUTPUT, \"02ativeco_ESGV_CNPJ-DropDuplicates.csv\")\n",
    "ativeco_ESGV.to_csv(csv_path, index=True, header=True)\n",
    "print(\"02\", ativeco_ESGV.shape)"
   ]
  },
  {
   "cell_type": "markdown",
   "metadata": {},
   "source": [
    "\n",
    "## Limpeza BAIRRO \n",
    "\n",
    "### Remover linhas com NaN na coluna NO_BAIRRO\n",
    "- Total linhas           211927\n",
    "- Coluna NO_BAIRRO       211920 non-null\n"
   ]
  },
  {
   "cell_type": "code",
   "execution_count": 9,
   "metadata": {},
   "outputs": [
    {
     "name": "stdout",
     "output_type": "stream",
     "text": [
      "02 (269127, 11)\n",
      "03 (269113, 11)\n"
     ]
    }
   ],
   "source": [
    "### Remove NaNs\n",
    "print(\"02\", ativeco_ESGV.shape)\n",
    "ativeco_ESGV = ativeco_ESGV.dropna(subset=[\"NO_BAIRRO\"])\n",
    "\n",
    "### Reindex rows starting again from zero\n",
    "# If we do not want to add the new column, we can use the drop parameter.\n",
    "# We can use the parameter inplace to reset the index in the existing DataFrame rather than create a new copy.\n",
    "ativeco_ESGV.reset_index(inplace=True,drop=True)\n",
    "\n",
    "#### Send to csv file\n",
    "csv_path = os.path.join(DATA_PATH_OUTPUT, \"03ativeco_ESGV_Bairro-Dropna.csv\")\n",
    "ativeco_ESGV.to_csv(csv_path, index=True, header=True)\n",
    "print(\"03\", ativeco_ESGV.shape)"
   ]
  },
  {
   "cell_type": "markdown",
   "metadata": {},
   "source": [
    "\n",
    "## Substituir todos os NaNs \n",
    "\n",
    "- Total linhas           211920\n",
    "- Coluna MEI             181975 non-null -> substituir NaN por 'N'\n",
    "- Coluna DS_LOGRADOURO   211919 non-null -> substituir NaN por ''\n",
    "- Coluna DS_NUMERO       211729 non-null -> substituir NaN por 'S/N'\n",
    "- Coluna DS_COMPLEMENTO   91242 non-null -> substituir NaN por ''\n",
    "- Coluna NR_CEP          211862 non-null -> substituir NaN por '29000000'\n"
   ]
  },
  {
   "cell_type": "code",
   "execution_count": 10,
   "metadata": {},
   "outputs": [
    {
     "name": "stdout",
     "output_type": "stream",
     "text": [
      "<class 'pandas.core.frame.DataFrame'>\n",
      "RangeIndex: 269113 entries, 0 to 269112\n",
      "Data columns (total 11 columns):\n",
      " #   Column          Non-Null Count   Dtype \n",
      "---  ------          --------------   ----- \n",
      " 0   NOMEEMPRESA     269113 non-null  object\n",
      " 1   PORTE           269113 non-null  object\n",
      " 2   MEI             226000 non-null  object\n",
      " 3   CNPJ            269113 non-null  object\n",
      " 4   DS_LOGRADOURO   269112 non-null  object\n",
      " 5   DS_NUMERO       268907 non-null  object\n",
      " 6   DS_COMPLEMENTO  126925 non-null  object\n",
      " 7   NO_BAIRRO       269113 non-null  object\n",
      " 8   NR_CEP          269029 non-null  object\n",
      " 9   NO_MUNICIPIO    269113 non-null  object\n",
      " 10  DS_ATIVIDADE    269113 non-null  object\n",
      "dtypes: object(11)\n",
      "memory usage: 22.6+ MB\n"
     ]
    }
   ],
   "source": [
    "ativeco_ESGV.info()"
   ]
  },
  {
   "cell_type": "code",
   "execution_count": 11,
   "metadata": {},
   "outputs": [
    {
     "name": "stdout",
     "output_type": "stream",
     "text": [
      "03 (269113, 11)\n",
      "04 (269113, 11)\n",
      "<class 'pandas.core.frame.DataFrame'>\n",
      "RangeIndex: 269113 entries, 0 to 269112\n",
      "Data columns (total 11 columns):\n",
      " #   Column          Non-Null Count   Dtype \n",
      "---  ------          --------------   ----- \n",
      " 0   NOMEEMPRESA     269113 non-null  object\n",
      " 1   PORTE           269113 non-null  object\n",
      " 2   MEI             269113 non-null  object\n",
      " 3   CNPJ            269113 non-null  object\n",
      " 4   DS_LOGRADOURO   269113 non-null  object\n",
      " 5   DS_NUMERO       269113 non-null  object\n",
      " 6   DS_COMPLEMENTO  269113 non-null  object\n",
      " 7   NO_BAIRRO       269113 non-null  object\n",
      " 8   NR_CEP          269113 non-null  object\n",
      " 9   NO_MUNICIPIO    269113 non-null  object\n",
      " 10  DS_ATIVIDADE    269113 non-null  object\n",
      "dtypes: object(11)\n",
      "memory usage: 22.6+ MB\n"
     ]
    }
   ],
   "source": [
    "print(\"03\", ativeco_ESGV.shape)\n",
    "ativeco_ESGV[\"MEI\"]            = ativeco_ESGV[\"MEI\"].replace(np.nan, 'N')\n",
    "ativeco_ESGV[\"DS_LOGRADOURO\"]  = ativeco_ESGV[\"DS_LOGRADOURO\"].replace(np.nan, '')\n",
    "ativeco_ESGV[\"DS_NUMERO\"]      = ativeco_ESGV[\"DS_NUMERO\"].replace(np.nan, 'S/N')\n",
    "ativeco_ESGV[\"DS_COMPLEMENTO\"] = ativeco_ESGV[\"DS_COMPLEMENTO\"].replace(np.nan, '')\n",
    "ativeco_ESGV[\"NR_CEP\"]         = ativeco_ESGV[\"NR_CEP\"].replace(np.nan, '290000000')\n",
    "\n",
    "#### Send to csv file\n",
    "csv_path = os.path.join(DATA_PATH_OUTPUT, \"04ativeco_ESGV-ReplaceNaN.csv\")\n",
    "ativeco_ESGV.to_csv(csv_path, index=True, header=True)\n",
    "print(\"04\", ativeco_ESGV.shape)\n",
    "\n",
    "ativeco_ESGV.info()"
   ]
  },
  {
   "cell_type": "markdown",
   "metadata": {},
   "source": [
    "\n",
    "## Padronização strings\n",
    "\n",
    "- Todas maiúsculas\n",
    "- remover acentuações e caracteres especiais\n",
    "- criar colunas chaves para merge com IBGE: CH_ATIVIDADE, CH_MUNICIPIO_BAIRRO\n"
   ]
  },
  {
   "cell_type": "markdown",
   "metadata": {},
   "source": [
    "\n",
    "###  Criar colunas chaves para merge com IBGE: CH_ATIVIDADE\n"
   ]
  },
  {
   "cell_type": "code",
   "execution_count": 12,
   "metadata": {},
   "outputs": [
    {
     "name": "stdout",
     "output_type": "stream",
     "text": [
      "04 (269113, 11)\n",
      "05 (269113, 12)\n"
     ]
    }
   ],
   "source": [
    "def correct_names(name):\n",
    "    name = name.replace('Á', 'A').replace('À', 'A').replace('Â', 'A').replace('Ã', 'A')\n",
    "    name = name.replace('É', 'E').replace('È', 'E').replace('Ê', 'E')\n",
    "    name = name.replace('Í', 'I').replace('Ì', 'I').replace('Î', 'I')\n",
    "    name = name.replace('Ó', 'O').replace('Ò', 'O').replace('Ô', 'O').replace('Õ', 'O')\n",
    "    name = name.replace('Ú', 'U').replace('Ù', 'U').replace('Û', 'U').replace('Ũ', 'U').replace('Ü', 'U')\n",
    "    name = name.replace('Ç', 'C')\n",
    "    #removing all spaces at the beginning, end and between of a string\n",
    "    name = name.replace(\" \",\"\")\n",
    "    #removing linebreak and tabs\n",
    "    name = name.replace(\"\\n\",\"\")\n",
    "    name = name.replace(\"\\t\",\"\")\n",
    "    return name\n",
    "\n",
    "\n",
    "print(\"04\", ativeco_ESGV.shape)\n",
    "### converting whole dataframe from lower case to upper case\n",
    "ativeco_ESGV = ativeco_ESGV.apply(lambda x: x.astype(str).str.upper())\n",
    "\n",
    "### creating a key column and removing accentuation, spaces, linebreak and tabs from it\n",
    "# the key column will be used for the merge levenstein diference with CNAE atividades\n",
    "ativeco_ESGV[\"CH_ATIVIDADE\"] = ativeco_ESGV[\"DS_ATIVIDADE\"].apply(correct_names)\n",
    "\n",
    "### Send to csv file\n",
    "csv_path = os.path.join(DATA_PATH_OUTPUT, \"05ativeco_ESGV-StringStandart_CH_ATIVIDADE.csv\")\n",
    "ativeco_ESGV.to_csv(csv_path, index=True, header=True)\n",
    "print(\"05\", ativeco_ESGV.shape)\n"
   ]
  },
  {
   "cell_type": "markdown",
   "metadata": {},
   "source": [
    "\n",
    "###  Criar colunas chaves para merge com IBGE: CH_ATIVIDADE, CH_MUNICIPIO_BAIRRO\n"
   ]
  },
  {
   "cell_type": "code",
   "execution_count": 13,
   "metadata": {},
   "outputs": [
    {
     "name": "stdout",
     "output_type": "stream",
     "text": [
      "05 (269113, 12)\n",
      "06 (269113, 13)\n"
     ]
    }
   ],
   "source": [
    "print(\"05\", ativeco_ESGV.shape)\n",
    "### creating a key column and removing accentuation, spaces, linebreak and tabs from it\n",
    "# the key column will be used for the merge levenstein diference with IBGE município+bairro\n",
    "ativeco_ESGV[\"CH_MUNICIPIO_BAIRRO\"] = ativeco_ESGV['NO_MUNICIPIO']+ativeco_ESGV[\"NO_BAIRRO\"]\n",
    "ativeco_ESGV[\"CH_MUNICIPIO_BAIRRO\"] = ativeco_ESGV[\"CH_MUNICIPIO_BAIRRO\"].apply(correct_names)\n",
    "\n",
    "### Send to csv file\n",
    "csv_path = os.path.join(DATA_PATH_OUTPUT, \"06ativeco_ESGV-StringStandart_CH_ATIVIDADE_CH_MUNICIPIO_BAIRRO.csv\")\n",
    "ativeco_ESGV.to_csv(csv_path, index=True, header=True)\n",
    "print(\"06\", ativeco_ESGV.shape)"
   ]
  },
  {
   "cell_type": "markdown",
   "metadata": {},
   "source": [
    "# Limpeza e preparação da base de dados IBGE-Atividades (CNAE23)"
   ]
  },
  {
   "cell_type": "markdown",
   "metadata": {},
   "source": [
    "\n",
    "## Remoção colunas não relevantes\n",
    "\n",
    "- Nome da atividade como coluna \"Denominacao\"\n",
    "- Nome da Divisão como \"DivNome\"\n",
    "- Manter apenas colunas \"Divisão\",\"Subclasse\",\"Denominacao\" sem NaN"
   ]
  },
  {
   "cell_type": "code",
   "execution_count": 15,
   "metadata": {},
   "outputs": [],
   "source": [
    "import pandas as pd\n",
    "\n",
    "def load_data_IBGE(data_path=DATA_PATH_INPUT):\n",
    "    ### The csv was extracted from a tar.gz by function fetch_data() ### main choise\n",
    "    xlsx_path = os.path.join(data_path, \"AtividadesEconomicas_IBGE.xlsx\")\n",
    "    return pd.read_excel(xlsx_path, header=3,dtype=object)"
   ]
  },
  {
   "cell_type": "code",
   "execution_count": 16,
   "metadata": {},
   "outputs": [],
   "source": [
    "### Original base in multindex format\n",
    "CNAE23 = load_data_IBGE()\n",
    "\n",
    "### name of Atividade as column \"Denominacao\"\n",
    "CNAE23.columns.values[5] = \"Denominacao\"\n",
    "\n",
    "### turning multindex format into flat (traditional) format\n",
    "mask_frame = CNAE23.iloc[:,4::-1].isna().cumprod(axis=1).iloc[:,4::-1].astype(bool)\n",
    "mask_frame['Denominacao']=False\n",
    "CNAE23 = CNAE23[:].ffill().mask(mask_frame)\n",
    "CNAE23 = CNAE23.replace(np.nan,'')\n",
    "\n",
    "\n",
    "#### Send to csv file\n",
    "csv_path = os.path.join(DATA_PATH_OUTPUT, \"100CNAE_Flat.csv\")\n",
    "CNAE23.to_csv(csv_path, index=True, header=True)"
   ]
  },
  {
   "cell_type": "markdown",
   "metadata": {},
   "source": [
    "\n",
    "## Criação da coluna \"DivNome\"\n",
    "- Enquanto a coluna \"Divisão\" possui o código numério da divisão (agrupamento de atividades relacionadas), a coluna \"DivNome\" conterá o nome da divisão (agrupamento de atividades relacionadas)"
   ]
  },
  {
   "cell_type": "code",
   "execution_count": 17,
   "metadata": {},
   "outputs": [
    {
     "data": {
      "text/html": [
       "<div>\n",
       "<style scoped>\n",
       "    .dataframe tbody tr th:only-of-type {\n",
       "        vertical-align: middle;\n",
       "    }\n",
       "\n",
       "    .dataframe tbody tr th {\n",
       "        vertical-align: top;\n",
       "    }\n",
       "\n",
       "    .dataframe thead th {\n",
       "        text-align: right;\n",
       "    }\n",
       "</style>\n",
       "<table border=\"1\" class=\"dataframe\">\n",
       "  <thead>\n",
       "    <tr style=\"text-align: right;\">\n",
       "      <th></th>\n",
       "      <th>Divisão</th>\n",
       "      <th>DivNome</th>\n",
       "      <th>Subclasse</th>\n",
       "      <th>Denominacao</th>\n",
       "    </tr>\n",
       "  </thead>\n",
       "  <tbody>\n",
       "    <tr>\n",
       "      <th>0</th>\n",
       "      <td>01</td>\n",
       "      <td>AGRICULTURA, PECUÁRIA E SERVIÇOS RELACIONADOS</td>\n",
       "      <td>0111-3/01</td>\n",
       "      <td>AGRICULTURA, PECUÁRIA E SERVIÇOS RELACIONADOS</td>\n",
       "    </tr>\n",
       "    <tr>\n",
       "      <th>1</th>\n",
       "      <td>01</td>\n",
       "      <td>AGRICULTURA, PECUÁRIA E SERVIÇOS RELACIONADOS</td>\n",
       "      <td>0111-3/01</td>\n",
       "      <td>Produção de lavouras temporárias</td>\n",
       "    </tr>\n",
       "    <tr>\n",
       "      <th>2</th>\n",
       "      <td>01</td>\n",
       "      <td>AGRICULTURA, PECUÁRIA E SERVIÇOS RELACIONADOS</td>\n",
       "      <td>0111-3/01</td>\n",
       "      <td>Cultivo de cereais</td>\n",
       "    </tr>\n",
       "    <tr>\n",
       "      <th>3</th>\n",
       "      <td>01</td>\n",
       "      <td>AGRICULTURA, PECUÁRIA E SERVIÇOS RELACIONADOS</td>\n",
       "      <td>0111-3/01</td>\n",
       "      <td>Cultivo de arroz</td>\n",
       "    </tr>\n",
       "    <tr>\n",
       "      <th>4</th>\n",
       "      <td>01</td>\n",
       "      <td>AGRICULTURA, PECUÁRIA E SERVIÇOS RELACIONADOS</td>\n",
       "      <td>0111-3/02</td>\n",
       "      <td>Cultivo de milho</td>\n",
       "    </tr>\n",
       "  </tbody>\n",
       "</table>\n",
       "</div>"
      ],
      "text/plain": [
       "  Divisão                                        DivNome  Subclasse  \\\n",
       "0      01  AGRICULTURA, PECUÁRIA E SERVIÇOS RELACIONADOS  0111-3/01   \n",
       "1      01  AGRICULTURA, PECUÁRIA E SERVIÇOS RELACIONADOS  0111-3/01   \n",
       "2      01  AGRICULTURA, PECUÁRIA E SERVIÇOS RELACIONADOS  0111-3/01   \n",
       "3      01  AGRICULTURA, PECUÁRIA E SERVIÇOS RELACIONADOS  0111-3/01   \n",
       "4      01  AGRICULTURA, PECUÁRIA E SERVIÇOS RELACIONADOS  0111-3/02   \n",
       "\n",
       "                                     Denominacao  \n",
       "0  AGRICULTURA, PECUÁRIA E SERVIÇOS RELACIONADOS  \n",
       "1               Produção de lavouras temporárias  \n",
       "2                             Cultivo de cereais  \n",
       "3                               Cultivo de arroz  \n",
       "4                               Cultivo de milho  "
      ]
     },
     "execution_count": 17,
     "metadata": {},
     "output_type": "execute_result"
    }
   ],
   "source": [
    "### Assignment by reference, keeping only the columns of interest\n",
    "# Column \"Grupo\" will be transformed in \"DivNome\"\n",
    "CNAE23 = CNAE23[[\"Divisão\",\"Grupo\",\"Subclasse\",\"Denominacao\"]]\n",
    "\n",
    "### ensuring that any void will be NaN\n",
    "CNAE23 = CNAE23.replace('',np.nan)\n",
    "\n",
    "### filling in the \"subclass\" blanks, more detailed (lower) code that uniquely identifies an activity\n",
    "# empty spaces occur in rows with the definition of,e.g., \"class\" codes(already dropped),\n",
    "# due to original multiindex format\n",
    "CNAE23['Subclasse'] = CNAE23['Subclasse'].fillna(method='bfill')\n",
    "\n",
    "### grouping activities by \"division\" and creating the column 'DivName' with the name of the division\n",
    "### removing codes higher than Divisão\n",
    "CNAE23 = CNAE23.dropna(subset=['Divisão'])\n",
    "### creating to \"DivNome\" and assigning the name to its respective division read from \"Denominacao\"\n",
    "CNAE23['Grupo'] = CNAE23['Grupo'].fillna(CNAE23['Denominacao'])\n",
    "CNAE23 = CNAE23.rename(columns={'Grupo': 'DivNome'})\n",
    "\n",
    "\n",
    "# Loops through all columns of the dataset propagating division name, change name when division changes\n",
    "CNAE23.reset_index(inplace=True,drop=True)\n",
    "for i, infos in CNAE23.iterrows():\n",
    "    # Defining the first division\n",
    "    if i == 0:\n",
    "        Divisao_atual = infos.Divisão\n",
    "        DivNome_atual = infos.DivNome\n",
    "    else:\n",
    "        # Checks if the divisão has been changed, and when it changes, updates the DivNome for the new divisão\n",
    "        if infos.Divisão != Divisao_atual:\n",
    "            #print(f'Houve mudança de divisão {infos.Divisão} de nome {infos.DivNome}')\n",
    "            Divisao_atual = infos.Divisão\n",
    "            DivNome_atual = infos.DivNome\n",
    "        else:\n",
    "            infos.DivNome = DivNome_atual\n",
    "\n",
    "\n",
    "### Send to csv file\n",
    "csv_path = os.path.join(DATA_PATH_OUTPUT, \"101CNAE_DivNome.csv\")\n",
    "CNAE23.to_csv(csv_path, index=True, header=True)\n",
    "CNAE23.head()"
   ]
  },
  {
   "cell_type": "markdown",
   "metadata": {},
   "source": [
    "\n",
    "## Padronização strings\n",
    "\n",
    "- Todas maiúsculas\n",
    "- remover acentuações e caracteres especiais\n",
    "- coluna \"Denominacao\" como coluna chave (nome original da atividade foi mantida na base ativeco_ES)"
   ]
  },
  {
   "cell_type": "code",
   "execution_count": 18,
   "metadata": {},
   "outputs": [],
   "source": [
    "def correct_names(name):\n",
    "    name = name.replace('Á', 'A').replace('À', 'A').replace('Â', 'A').replace('Ã', 'A')\n",
    "    name = name.replace('É', 'E').replace('È', 'E').replace('Ê', 'E')\n",
    "    name = name.replace('Í', 'I').replace('Ì', 'I').replace('Î', 'I')\n",
    "    name = name.replace('Ó', 'O').replace('Ò', 'O').replace('Ô', 'O').replace('Õ', 'O')\n",
    "    name = name.replace('Ú', 'U').replace('Ù', 'U').replace('Û', 'U').replace('Ũ', 'U').replace('Ü', 'U')\n",
    "    name = name.replace('Ç', 'C')\n",
    "    #removing all spaces at the beginning, end and between of a string\n",
    "    name = name.replace(\" \",\"\")\n",
    "    #removing linebreak and tabs\n",
    "    name = name.replace(\"\\n\",\"\")\n",
    "    name = name.replace(\"\\t\",\"\")\n",
    "    return name\n",
    "\n",
    "#converting whole dataframe from lower case to upper case\n",
    "CNAE23 = CNAE23.apply(lambda x: x.astype(str).str.upper())\n",
    "\n",
    "### creating a key column and removing accentuation, spaces, linebreak and tabs from it\n",
    "# the key column will be used for the merge levenstein diference with ativeco_ES\n",
    "CNAE23[\"CH_ATIVIDADE\"] = CNAE23[\"Denominacao\"]\n",
    "CNAE23[\"CH_ATIVIDADE\"] = CNAE23[\"CH_ATIVIDADE\"].apply(correct_names)\n",
    "\n",
    "#### Send to csv file\n",
    "csv_path = os.path.join(DATA_PATH_OUTPUT, \"102CNAE-StringStandart.csv\")\n",
    "CNAE23.to_csv(csv_path, index=True, header=True)\n"
   ]
  },
  {
   "cell_type": "markdown",
   "metadata": {},
   "source": [
    "# Limpeza e preparação da base de dados IBGE-Bairros"
   ]
  },
  {
   "cell_type": "markdown",
   "metadata": {},
   "source": [
    "\n",
    "## Remoção colunas não relevantes\n",
    "\n",
    "- Remover coluna \"Estado\"\n",
    "- Re-ordenar colunas para \"Cód.\",\"Município\",\"Bairro\"\n",
    "- Não houve preocupação com NaN pois eles não existem nessa basse"
   ]
  },
  {
   "cell_type": "code",
   "execution_count": 22,
   "metadata": {},
   "outputs": [],
   "source": [
    "import pandas as pd\n",
    "\n",
    "def load_data_IBGE_bairros(data_path=DATA_PATH_INPUT):\n",
    "    #xlsx_path = os.path.join(data_path, \"Tabela_Bairros_GV.xlsx\")\n",
    "    #return pd.read_excel(xlsx_path, header=3,dtype=object)\n",
    "    csv_path = os.path.join(data_path, \"BairrosGV_IBGE.csv\")\n",
    "    return pd.read_csv(csv_path)"
   ]
  },
  {
   "cell_type": "code",
   "execution_count": 23,
   "metadata": {},
   "outputs": [],
   "source": [
    "IBGE_Bairros = load_data_IBGE_bairros()\n",
    "\n",
    "### Remove \"Estado\" column and reorder columns\n",
    "columns_titles = [\"Cód.\",\"Município\",\"Bairro\"]\n",
    "IBGE_Bairros=IBGE_Bairros.reindex(columns=columns_titles)\n",
    "\n",
    "### Send to csv file\n",
    "csv_path = os.path.join(DATA_PATH_OUTPUT, \"200IBGE_Bairros_Relevantes.csv\")\n",
    "IBGE_Bairros.to_csv(csv_path, index=True, header=True)"
   ]
  },
  {
   "cell_type": "markdown",
   "metadata": {},
   "source": [
    "\n",
    "## Padronização strings\n",
    "\n",
    "- Todas maiúsculas\n",
    "- remover acentuações e caracteres especiais\n",
    "- criar coluna chave para merge com ativeco_ES: CH_MUNICIPIO_BAIRRO"
   ]
  },
  {
   "cell_type": "code",
   "execution_count": 24,
   "metadata": {},
   "outputs": [],
   "source": [
    "def correct_names(name):\n",
    "    name = name.replace('Á', 'A').replace('À', 'A').replace('Â', 'A').replace('Ã', 'A')\n",
    "    name = name.replace('É', 'E').replace('È', 'E').replace('Ê', 'E')\n",
    "    name = name.replace('Í', 'I').replace('Ì', 'I').replace('Î', 'I')\n",
    "    name = name.replace('Ó', 'O').replace('Ò', 'O').replace('Ô', 'O').replace('Õ', 'O')\n",
    "    name = name.replace('Ú', 'U').replace('Ù', 'U').replace('Û', 'U').replace('Ũ', 'U').replace('Ü', 'U')\n",
    "    name = name.replace('Ç', 'C')\n",
    "    #removing all spaces at the beginning, end and between of a string\n",
    "    name = name.replace(\" \",\"\")\n",
    "    #removing linebreak and tabs\n",
    "    name = name.replace(\"\\n\",\"\")\n",
    "    name = name.replace(\"\\t\",\"\")\n",
    "    return name\n",
    "\n",
    "\n",
    "#converting whole dataframe from lower case to upper case\n",
    "IBGE_Bairros = IBGE_Bairros.apply(lambda x: x.astype(str).str.upper())\n",
    "\n",
    "### creating a key column and removing accentuation, spaces, linebreak and tabs from it\n",
    "# the key column will be used for the merge levenstein diference with ativeco_ES\n",
    "IBGE_Bairros[\"CH_MUNICIPIO_BAIRRO\"] = IBGE_Bairros['Município']+IBGE_Bairros[\"Bairro\"]\n",
    "IBGE_Bairros[\"CH_MUNICIPIO_BAIRRO\"] = IBGE_Bairros[\"CH_MUNICIPIO_BAIRRO\"].apply(correct_names)\n",
    "\n",
    "### Send to csv file\n",
    "csv_path = os.path.join(DATA_PATH_OUTPUT, \"201IBGE_Bairros_StringStandart.csv\")\n",
    "IBGE_Bairros.to_csv(csv_path, index=True, header=True)\n"
   ]
  },
  {
   "cell_type": "markdown",
   "metadata": {},
   "source": [
    "# MAPEAMENTO BAIRRO"
   ]
  },
  {
   "cell_type": "markdown",
   "metadata": {},
   "source": [
    "### Cria tabela (de ativeco_ES) com agrupamentos de localidade (MUNICIPIOBAIRRO)\n",
    "- usar coluna CH_MUNICIPIO_BAIRRO\n",
    "- tabela [CH_MUNICIPIO_BAIRRO,DS_ATIVIDADE,count]\n",
    "    - DS_ATIVIDADE = quantidade de atividades diferentes na localidade\n",
    "    - count = quantidade de atividades na localidade"
   ]
  },
  {
   "cell_type": "code",
   "execution_count": 25,
   "metadata": {},
   "outputs": [
    {
     "name": "stdout",
     "output_type": "stream",
     "text": [
      "07 (269113, 5)\n",
      "08 (1522, 2)\n",
      "09 (1522, 2)\n",
      "10 (1522, 3)\n"
     ]
    }
   ],
   "source": [
    "### Assignment by copy and not by reference, keeping only the columns of interest\n",
    "Ativ_Bairro = ativeco_ESGV.loc[:,[\"NO_MUNICIPIO\",\"NO_BAIRRO\",\"DS_ATIVIDADE\",\"CH_ATIVIDADE\",\"CH_MUNICIPIO_BAIRRO\"]]\n",
    "\n",
    "### Send to csv file\n",
    "csv_path = os.path.join(DATA_PATH_OUTPUT, \"07ativeco_ESGV-Columns.csv\") #Somatorio_atividades_aposmerge.csv\n",
    "Ativ_Bairro.to_csv(csv_path, index=True, header=True)\n",
    "print(\"07\", Ativ_Bairro.shape)\n",
    "\n",
    "\n",
    "### Number of different activities per bairro\n",
    "Group_Ativ_Bairro_SUM = Ativ_Bairro.groupby([\"CH_MUNICIPIO_BAIRRO\"],as_index=False)[\"DS_ATIVIDADE\"].nunique()\n",
    "Group_Ativ_Bairro_SUM = Group_Ativ_Bairro_SUM.sort_values([\"CH_MUNICIPIO_BAIRRO\"])\n",
    "\n",
    "### Send to csv file\n",
    "csv_path = os.path.join(DATA_PATH_OUTPUT, \"08ativeco_ESGV-Columns-Atividade_por_Bairro.csv\") #Somatorio_atividades_aposmerge.csv\n",
    "Group_Ativ_Bairro_SUM.to_csv(csv_path, index=True, header=True)\n",
    "print(\"08\", Group_Ativ_Bairro_SUM.shape)\n",
    "\n",
    "### Total number of activities per bairro\n",
    "Group_Ativ_Bairro = Ativ_Bairro.groupby([\"CH_MUNICIPIO_BAIRRO\"],as_index=False)[\"DS_ATIVIDADE\"].value_counts()\n",
    "Group_Ativ_Bairro = Group_Ativ_Bairro.groupby([\"CH_MUNICIPIO_BAIRRO\"],as_index=False)[\"count\"].agg('sum')\n",
    "csv_path = os.path.join(DATA_PATH_OUTPUT, \"09ativeco_ESGV-Columns-Total-Atividade_por_BairroGV.csv\")\n",
    "Group_Ativ_Bairro.to_csv(csv_path, index=True, header=True)#, index_label = [\"NO_MUNICIPIO\",\"NO_BAIRRO\"]\n",
    "print(\"09\", Group_Ativ_Bairro.shape)\n",
    "\n",
    "### merge of number of different activities per bairro and total number of activities per bairro\n",
    "Conta_Atividade_Bairro = pd.merge(Group_Ativ_Bairro_SUM,Group_Ativ_Bairro[[\"CH_MUNICIPIO_BAIRRO\",\"count\"]])\n",
    "\n",
    "### Send to csv file\n",
    "csv_path = os.path.join(DATA_PATH_OUTPUT, \"10ativeco_ESGV-Columns-Atividade_Bairro-Total.csv\") #Somatorio_atividades_aposmerge.csv\n",
    "Conta_Atividade_Bairro.to_csv(csv_path, index=True, header=True)\n",
    "print(\"10\", Conta_Atividade_Bairro.shape)\n"
   ]
  },
  {
   "cell_type": "markdown",
   "metadata": {},
   "source": [
    "### Tabela de localidades (MUNICIPIOBAIRRO) IBGE"
   ]
  },
  {
   "cell_type": "code",
   "execution_count": 26,
   "metadata": {},
   "outputs": [
    {
     "name": "stdout",
     "output_type": "stream",
     "text": [
      "201 (406, 4)\n",
      "<class 'pandas.core.frame.DataFrame'>\n",
      "RangeIndex: 406 entries, 0 to 405\n",
      "Data columns (total 4 columns):\n",
      " #   Column               Non-Null Count  Dtype \n",
      "---  ------               --------------  ----- \n",
      " 0   Cód.                 406 non-null    object\n",
      " 1   Município            406 non-null    object\n",
      " 2   Bairro               406 non-null    object\n",
      " 3   CH_MUNICIPIO_BAIRRO  406 non-null    object\n",
      "dtypes: object(4)\n",
      "memory usage: 12.8+ KB\n",
      "None\n"
     ]
    }
   ],
   "source": [
    "print(\"201\", IBGE_Bairros.shape)\n",
    "print(IBGE_Bairros.info())"
   ]
  },
  {
   "cell_type": "markdown",
   "metadata": {},
   "source": [
    "## Cria (fuzzymerge) tabela com agrupamentos de localidade (MUNICIPIOBAIRRO)\n",
    "- função fuzzymerge() não funciona com colunas de mesmo nome\n",
    "- nova tabela [\"Cód.\",\"Município\",\"Bairro\",\"Num_Atividades\",\"Total_Atividades\"]\n",
    "    - Num_Atividades = DS_ATIVIDADE = quantidade de atividades diferentes na localidade\n",
    "    - Total_Atividades = count = quantidade de atividades na localidade"
   ]
  },
  {
   "cell_type": "code",
   "execution_count": 27,
   "metadata": {},
   "outputs": [
    {
     "name": "stdout",
     "output_type": "stream",
     "text": [
      "<class 'pandas.core.frame.DataFrame'>\n",
      "RangeIndex: 406 entries, 0 to 405\n",
      "Data columns (total 5 columns):\n",
      " #   Column               Non-Null Count  Dtype \n",
      "---  ------               --------------  ----- \n",
      " 0   Cód.                 406 non-null    object\n",
      " 1   Município            406 non-null    object\n",
      " 2   Bairro               406 non-null    object\n",
      " 3   CH_MUNICIPIO_BAIRRO  406 non-null    object\n",
      " 4   journal2             406 non-null    object\n",
      "dtypes: object(5)\n",
      "memory usage: 16.0+ KB\n",
      "None\n",
      "301 (386, 9)\n",
      "302 (386, 7)\n"
     ]
    }
   ],
   "source": [
    "from levenpandas import fuzzymerge\n",
    "import pandas as pd\n",
    "\n",
    "### function fuzzymerge does not work well with key columns with the same name\n",
    "# copy original dataframes with diferent key names\n",
    "df1 = Conta_Atividade_Bairro.loc[:,Conta_Atividade_Bairro.columns]\n",
    "df1['journal1'] = df1['CH_MUNICIPIO_BAIRRO']\n",
    "df2 = IBGE_Bairros.loc[:,IBGE_Bairros.columns]\n",
    "df2['journal2'] = df2['CH_MUNICIPIO_BAIRRO']\n",
    "print(df2.info())\n",
    "\n",
    "merged = fuzzymerge(df1, df2, left_on='journal1', right_on='journal2', threshold = 1, multi=-1)\n",
    "merged = merged.dropna()\n",
    "\n",
    "### Send to csv file\n",
    "csv_path = os.path.join(DATA_PATH_OUTPUT, \"301Merged_CH_MUNICIPIO_BAIRRO.csv\")\n",
    "merged.to_csv(csv_path, index=True, header=True)\n",
    "print(\"301\", merged.shape)\n",
    "\n",
    "### Creates dataframe with information from ativeco_ES (key column) matched with IBGE (key column)\n",
    "columns_titles = [\"Cód.\",\"Município\",\"Bairro\",\"DS_ATIVIDADE\",\"count\",\"CH_MUNICIPIO_BAIRRO_x\",\"CH_MUNICIPIO_BAIRRO_y\" ]\n",
    "Bairros = merged.loc[:,columns_titles]\n",
    "Bairros = Bairros.rename(columns={'DS_ATIVIDADE': 'Num_Atividades',\"count\": \"Total_Atividade\"})\n",
    "Bairros = Bairros.rename(columns={'CH_MUNICIPIO_BAIRRO_x': 'CH_MUNICIPIO_BAIRRO_ativeco_ES',\"CH_MUNICIPIO_BAIRRO_y\": \"CH_MUNICIPIO_BAIRRO_IBGE\"})\n",
    "Bairros = Bairros.reset_index(drop=True)\n",
    "\n",
    "### Send to csv file\n",
    "csv_path = os.path.join(DATA_PATH_OUTPUT, \"302Bairros.csv\")\n",
    "Bairros.to_csv(csv_path, index=True, header=True)\n",
    "print(\"302\", Bairros.shape)\n"
   ]
  },
  {
   "cell_type": "markdown",
   "metadata": {},
   "source": [
    "# MAPEAMENTO ATIVIDADES"
   ]
  },
  {
   "cell_type": "markdown",
   "metadata": {},
   "source": [
    "### Cria tabela (de ativeco_ES) com agrupamentos de localidade (MUNICIPIOBAIRRO)\n",
    "- usar coluna CH_MUNICIPIO_BAIRRO\n",
    "- tabela [CH_MUNICIPIO_BAIRRO,DS_ATIVIDADE,count]\n",
    "    - DS_ATIVIDADE = quantidade de atividades diferentes na localidade\n",
    "    - count = quantidade de atividades na localidade"
   ]
  },
  {
   "cell_type": "code",
   "execution_count": 28,
   "metadata": {},
   "outputs": [
    {
     "name": "stdout",
     "output_type": "stream",
     "text": [
      "07 (269113, 5)\n",
      "400 (1033, 3)\n",
      "401 (1839, 6)\n",
      "402 (965, 9)\n",
      "403 (965, 7)\n",
      "404 (83, 2)\n"
     ]
    }
   ],
   "source": [
    "from levenpandas import fuzzymerge\n",
    "import pandas as pd\n",
    "\n",
    "### Assignment by copy and not by reference, keeping only the columns of interest\n",
    "Ativ_Bairro = ativeco_ESGV.loc[:,[\"NO_MUNICIPIO\",\"NO_BAIRRO\",\"DS_ATIVIDADE\",\"CH_ATIVIDADE\",\"CH_MUNICIPIO_BAIRRO\"]]\n",
    "\n",
    "### Send to csv file\n",
    "csv_path = os.path.join(DATA_PATH_OUTPUT, \"07ativeco_ESGV-Columns.csv\") #Somatorio_atividades_aposmerge.csv\n",
    "Ativ_Bairro.to_csv(csv_path, index=True, header=True)\n",
    "print(\"07\", Ativ_Bairro.shape)\n",
    "\n",
    "\n",
    "\n",
    "### function fuzzymerge does not work well with key columns with the same name\n",
    "# copy original dataframes with diferent key names\n",
    "df1 = Ativ_Bairro.loc[:,Ativ_Bairro.columns]\n",
    "df1 = df1.groupby([\"CH_ATIVIDADE\"],as_index=False)[\"CH_ATIVIDADE\"].value_counts()\n",
    "df1['journal1'] = df1['CH_ATIVIDADE']\n",
    "### Send to csv file\n",
    "csv_path = os.path.join(DATA_PATH_OUTPUT, \"400df1_atividades.csv\") #Somatorio_atividades.csv\n",
    "df1.to_csv(csv_path, index=True, header=True)\n",
    "print(\"400\", df1.shape)\n",
    "\n",
    "df2 = CNAE23.loc[:,CNAE23.columns]\n",
    "### remove Classe and Subclasse that may have the same name (duplicate) - see original CNAE23\n",
    "df2 = df2.drop_duplicates(subset='Denominacao', keep='first')\n",
    "df2['journal2'] = df2['CH_ATIVIDADE']\n",
    "### Send to csv file\n",
    "csv_path = os.path.join(DATA_PATH_OUTPUT, \"401df2_CNAE.csv\") #Somatorio_atividades.csv\n",
    "df2.to_csv(csv_path, index=True, header=True)\n",
    "print(\"401\", df2.shape)\n",
    "\n",
    "merged = fuzzymerge(df1, df2, left_on='journal1', right_on='journal2', threshold = 1, multi=-1)\n",
    "merged = merged.dropna()\n",
    "\n",
    "### Send to csv file\n",
    "csv_path = os.path.join(DATA_PATH_OUTPUT, \"402Merged_DS_ATIVIDADE_Dropna.csv\")\n",
    "merged.to_csv(csv_path, index=True, header=True)\n",
    "print(\"402\", merged.shape)\n",
    "\n",
    "### Creates dataframe with information from ativeco_ES (key column) matched with CNAE (key column)\n",
    "columns_titles = [\"Divisão\",\"DivNome\",\"Subclasse\",\"Denominacao\",\"count\",'CH_ATIVIDADE_x','CH_ATIVIDADE_y']\n",
    "Atividades = merged.loc[:,columns_titles]\n",
    "Atividades = Atividades.rename(columns={\"count\": \"Total_Atividade\"})\n",
    "Atividades = Atividades.rename(columns={'CH_ATIVIDADE_x': 'CH_ATIVIDADE_ativeco_ES',\"CH_ATIVIDADE_y\": \"CH_ATIVIDADE_CNAE\"})\n",
    "Atividades = Atividades.reset_index(drop=True)\n",
    "\n",
    "\n",
    "### Send to csv file\n",
    "csv_path = os.path.join(DATA_PATH_OUTPUT, \"403Atividades.csv\")\n",
    "Atividades.to_csv(csv_path, index=True, header=True)\n",
    "print(\"403\", Atividades.shape)\n",
    "\n",
    "### Total Activities by Divisão\n",
    "g = Atividades.groupby(['Divisão'],as_index=False)['Total_Atividade'].agg('sum')\n",
    "### Send to csv file\n",
    "csv_path = os.path.join(DATA_PATH_OUTPUT, \"404Atividades_DivSum.csv\")\n",
    "g.to_csv(csv_path, index=True, header=True)\n",
    "print(\"404\", g.shape)\n",
    "\n"
   ]
  },
  {
   "cell_type": "markdown",
   "metadata": {},
   "source": [
    "# Construção da Tabela Bairro x Atividades\n",
    "- Na verdade MunicipioBairro x DivisãoAtividades"
   ]
  },
  {
   "cell_type": "markdown",
   "metadata": {},
   "source": [
    "###  Mantendo as colunas de interesse para o merge"
   ]
  },
  {
   "cell_type": "code",
   "execution_count": 29,
   "metadata": {},
   "outputs": [
    {
     "name": "stdout",
     "output_type": "stream",
     "text": [
      "07 (269113, 5)\n",
      "302 (386, 7)\n",
      "500 (386, 5)\n",
      "404 (965, 7)\n",
      "501 (965, 5)\n"
     ]
    }
   ],
   "source": [
    "### Assignment by copy and not by reference, keeping only the columns of interest\n",
    "Ativ_Bairro = ativeco_ESGV.loc[:,[\"NO_MUNICIPIO\",\"NO_BAIRRO\",\"DS_ATIVIDADE\",\"CH_ATIVIDADE\",\"CH_MUNICIPIO_BAIRRO\"]]\n",
    "### Send to csv file\n",
    "csv_path = os.path.join(DATA_PATH_OUTPUT, \"07ativeco_ESGV-Columns.csv\") #Somatorio_atividades_aposmerge.csv\n",
    "Ativ_Bairro.to_csv(csv_path, index=True, header=True)\n",
    "print(\"07\", Ativ_Bairro.shape)\n",
    "\n",
    "### keeping only the columns of interest\n",
    "print(\"302\", Bairros.shape)\n",
    "columns_titles = [\"Cód.\",\"Município\",\"Bairro\",\"CH_MUNICIPIO_BAIRRO_ativeco_ES\",\"CH_MUNICIPIO_BAIRRO_IBGE\" ]\n",
    "Bairros = Bairros.loc[:,columns_titles]\n",
    "Bairros = Bairros.reset_index(drop=True)\n",
    "### Send to csv file\n",
    "csv_path = os.path.join(DATA_PATH_OUTPUT, \"500Bairros.csv\")\n",
    "Bairros.to_csv(csv_path, index=True, header=True)\n",
    "print(\"500\", Bairros.shape)\n",
    "\n",
    "\n",
    "### keeping only the columns of interest\n",
    "print(\"404\", Atividades.shape)\n",
    "columns_titles = [\"Divisão\",\"DivNome\",\"Denominacao\",\"CH_ATIVIDADE_ativeco_ES\",\"CH_ATIVIDADE_CNAE\" ]\n",
    "Atividades = Atividades.loc[:,columns_titles]\n",
    "Atividades = Atividades.reset_index(drop=True)\n",
    "### Send to csv file\n",
    "csv_path = os.path.join(DATA_PATH_OUTPUT, \"501Atividades.csv\")\n",
    "Atividades.to_csv(csv_path, index=True, header=True)\n",
    "print(\"501\", Atividades.shape)\n",
    "\n"
   ]
  },
  {
   "cell_type": "markdown",
   "metadata": {},
   "source": [
    "###  Merge ativeco_ES com IBGE = merged_bairros"
   ]
  },
  {
   "cell_type": "code",
   "execution_count": 30,
   "metadata": {},
   "outputs": [
    {
     "name": "stdout",
     "output_type": "stream",
     "text": [
      "502 (242013, 10)\n"
     ]
    }
   ],
   "source": [
    "### Merging original ativeco_ES (Ativ_Bairro) with Bairros filtered (levenstein) with IBGE (Bairros)\n",
    "Bairro_ativeco_ES_IBGE = pd.merge(Ativ_Bairro, Bairros, left_on = 'CH_MUNICIPIO_BAIRRO', right_on = 'CH_MUNICIPIO_BAIRRO_ativeco_ES')\n",
    "Bairro_ativeco_ES_IBGE = Bairro_ativeco_ES_IBGE.dropna()\n",
    "\n",
    "### Send to csv file\n",
    "csv_path = os.path.join(DATA_PATH_OUTPUT, \"502Bairro_ativeco_ES_IBGE.csv\")\n",
    "Bairro_ativeco_ES_IBGE.to_csv(csv_path, index=True, header=True)\n",
    "print(\"502\", Bairro_ativeco_ES_IBGE.shape)\n",
    "\n",
    "### Total info by bairro code\n",
    "### if column NO_BAIRRO > 1, means that levenstein mapped two diferent strings to the same.\n",
    "### for example, \"ITACIBA\" = \"   ITACIBA\" = \"ITACIBÁ\" = Cód. = 3201308046\n",
    "#g = Bairro_ativeco_ES_IBGE.groupby(['Cód.'],as_index=False).nunique()\n",
    "### Send to csv file\n",
    "#csv_path = os.path.join(DATA_PATH_OUTPUT, \"503Bairro_ativeco_ES_IBGE_nunique.csv\")\n",
    "#g.to_csv(csv_path, index=True, header=True)\n",
    "#print(\"503\", g.shape)\n"
   ]
  },
  {
   "cell_type": "markdown",
   "metadata": {},
   "source": [
    "###  Merge ativeco_ES com CNAE = merged_atividades"
   ]
  },
  {
   "cell_type": "code",
   "execution_count": 31,
   "metadata": {},
   "outputs": [
    {
     "name": "stdout",
     "output_type": "stream",
     "text": [
      "504 (260879, 10)\n"
     ]
    }
   ],
   "source": [
    "### Merging original ativeco_ES (Ativ_Bairro) with Atividades filtered (levenstein) with CNAE (Atividades)\n",
    "Atividades_ativeco_ES_CNAE = pd.merge(Ativ_Bairro, Atividades, left_on = 'CH_ATIVIDADE', right_on = 'CH_ATIVIDADE_ativeco_ES')\n",
    "Atividades_ativeco_ES_CNAE = Atividades_ativeco_ES_CNAE.dropna()\n",
    "### Send to csv file\n",
    "csv_path = os.path.join(DATA_PATH_OUTPUT, \"504Atividades_ativeco_ES_CNAE.csv\")\n",
    "Atividades_ativeco_ES_CNAE.to_csv(csv_path, index=True, header=True)\n",
    "print(\"504\", Atividades_ativeco_ES_CNAE.shape)\n",
    "\n",
    "\n",
    "### Total info by Divisão code\n",
    "### if NO_BAIROO < CH_MUNICIPIO_BAIRRO, means that some municipalities have bairros with the same name.\n",
    "### For example, \"centro\"\n",
    "#g = Atividades_ativeco_ES_CNAE.groupby(['Divisão'],as_index=False).nunique()\n",
    "### Send to csv file\n",
    "#csv_path = os.path.join(DATA_PATH_OUTPUT, \"505Atividades_ativeco_ES_CNAE_nunique.csv\")\n",
    "#g.to_csv(csv_path, index=True, header=True)\n",
    "#print(\"505\", g.shape)"
   ]
  },
  {
   "cell_type": "markdown",
   "metadata": {},
   "source": [
    "###  Merge merged_bairros com merged_atividades =   merged_bairros_atividades"
   ]
  },
  {
   "cell_type": "code",
   "execution_count": 32,
   "metadata": {},
   "outputs": [
    {
     "name": "stdout",
     "output_type": "stream",
     "text": [
      "506 (242013, 6)\n",
      "507 (234553, 11)\n",
      "508 (234553, 7)\n",
      "509 (82, 7)\n"
     ]
    }
   ],
   "source": [
    "### Merging merged ativeco_ES,IBGE with merged ativeco_ES,CNAE\n",
    "\n",
    "### keeping only the columns of interest from merged ativeco_ES,IBGE\n",
    "## Assignment by copy and not by reference\n",
    "columns_titles = [\"Cód.\",\"Município\",\"Bairro\",\"CH_MUNICIPIO_BAIRRO_ativeco_ES\",\"CH_MUNICIPIO_BAIRRO_IBGE\",\"CH_ATIVIDADE\"]\n",
    "Bairro_ativeco_ES_IBGE = Bairro_ativeco_ES_IBGE.loc[:,columns_titles]\n",
    "Bairro_ativeco_ES_IBGE = Bairro_ativeco_ES_IBGE.reset_index(drop=True)\n",
    "### Send to csv file\n",
    "csv_path = os.path.join(DATA_PATH_OUTPUT, \"506Bairro_ativeco_ES_IBGE_Columns.csv\")\n",
    "Bairro_ativeco_ES_IBGE.to_csv(csv_path, index=True, header=True)\n",
    "print(\"506\", Bairro_ativeco_ES_IBGE.shape)\n",
    "\n",
    "### Merging merged ativeco_ES CNAE with merged ativeco_ES,IBGE (Final dataframe)\n",
    "AtividadesBairro_ativeco_ES_CNAE_IBGE = pd.merge(Bairro_ativeco_ES_IBGE, Atividades, left_on = 'CH_ATIVIDADE', right_on = 'CH_ATIVIDADE_ativeco_ES')\n",
    "### Send to csv file\n",
    "csv_path = os.path.join(DATA_PATH_OUTPUT, \"507AtividadesBairro_ativeco_ES_CNAE_IBGE.csv\")\n",
    "AtividadesBairro_ativeco_ES_CNAE_IBGE.to_csv(csv_path, index=True, header=True)\n",
    "print(\"507\", AtividadesBairro_ativeco_ES_CNAE_IBGE.shape)\n",
    "\n",
    "\n",
    "### Assignment by copy and not by reference, keeping only the columns of interest from Final dataframe\n",
    "columns_titles = [\"Cód.\",\"Município\",\"Bairro\",\"CH_MUNICIPIO_BAIRRO_IBGE\",\"Divisão\",\"DivNome\",\"CH_ATIVIDADE_CNAE\"]\n",
    "AtividadesBairro_ativeco_ES_CNAE_IBGE = AtividadesBairro_ativeco_ES_CNAE_IBGE.loc[:,columns_titles]\n",
    "#AtividadesBairro_ativeco_ES_CNAE_IBGE = AtividadesBairro_ativeco_ES_CNAE_IBGE.sort_values([\"Divisão\",\"Cód.\"])\n",
    "AtividadesBairro_ativeco_ES_CNAE_IBGE = AtividadesBairro_ativeco_ES_CNAE_IBGE.reset_index(drop=True)\n",
    "### Send to csv file\n",
    "csv_path = os.path.join(DATA_PATH_OUTPUT, \"508AtividadesBairro_ativeco_ES_CNAE_IBGE_Columns.csv\")\n",
    "AtividadesBairro_ativeco_ES_CNAE_IBGE.to_csv(csv_path, index=True, header=True)\n",
    "print(\"508\", AtividadesBairro_ativeco_ES_CNAE_IBGE.shape)\n",
    "\n",
    "### Total info by Divisão code\n",
    "### Lost one division in above merges, from 83 to 82\n",
    "g = AtividadesBairro_ativeco_ES_CNAE_IBGE.groupby(['Divisão'],as_index=False).nunique()\n",
    "### Send to csv file\n",
    "csv_path = os.path.join(DATA_PATH_OUTPUT, \"509AtividadesBairros_ativeco_ES_CNAE_IBGE_Divisao_nunique.csv\")\n",
    "g.to_csv(csv_path, index=True, header=True)\n",
    "print(\"509\", g.shape)"
   ]
  },
  {
   "cell_type": "markdown",
   "metadata": {},
   "source": [
    "###  conta a quantidade de atividades por bairro em merged_bairros_atividades"
   ]
  },
  {
   "cell_type": "code",
   "execution_count": 33,
   "metadata": {},
   "outputs": [
    {
     "name": "stdout",
     "output_type": "stream",
     "text": [
      "512 (13667, 6)\n"
     ]
    }
   ],
   "source": [
    "### Sum of each activity in a neighborhood of a municipality\n",
    "#AtividadesBairro_ativeco_ES_CNAE_IBGE_valuecounts = AtividadesBairro_ativeco_ES_CNAE_IBGE.groupby([\"Município\",\"Bairro\"],as_index=False)[\"DivNome\"].value_counts()\n",
    "AtividadesBairro_ativeco_ES_CNAE_IBGE_valuecounts = AtividadesBairro_ativeco_ES_CNAE_IBGE.groupby([\"Cód.\",\"Município\",\"Bairro\"],as_index=False)[[\"DivNome\",\"Divisão\"]].value_counts()\n",
    "csv_path = os.path.join(DATA_PATH_OUTPUT, \"512AtividadesBairros_ativeco_ES_CNAE_IBGE_valuecounts.csv\")\n",
    "AtividadesBairro_ativeco_ES_CNAE_IBGE_valuecounts.to_csv(csv_path, index=True, header=True)\n",
    "print(\"512\", AtividadesBairro_ativeco_ES_CNAE_IBGE_valuecounts.shape)\n"
   ]
  },
  {
   "cell_type": "markdown",
   "metadata": {},
   "source": [
    "### Constrói tabela final (linhas de atividades) x (colunas de atividades)\n",
    "\n",
    "O conteúdo de cada célula da tabela contém a quantidade daquela atividade (coluna) naquele bairro (linha)"
   ]
  },
  {
   "cell_type": "code",
   "execution_count": 34,
   "metadata": {},
   "outputs": [
    {
     "name": "stdout",
     "output_type": "stream",
     "text": [
      "513 (386, 82)\n"
     ]
    }
   ],
   "source": [
    "### Final Table Neighborhood x Activities\n",
    "#AtividadesBairro_ativeco_ES_CNAE_IBGE_valuecounts_pivot = AtividadesBairro_ativeco_ES_CNAE_IBGE_valuecounts.pivot(index = [\"Município\",\"Bairro\"] , columns=\"DivNome\", values=\"count\")\n",
    "AtividadesBairro_ativeco_ES_CNAE_IBGE_valuecounts_pivot = AtividadesBairro_ativeco_ES_CNAE_IBGE_valuecounts.pivot(index = [\"Cód.\",\"Município\",\"Bairro\"] , columns=[\"DivNome\",\"Divisão\"], values=\"count\")\n",
    "AtividadesBairro_ativeco_ES_CNAE_IBGE_valuecounts_pivot = AtividadesBairro_ativeco_ES_CNAE_IBGE_valuecounts_pivot.replace(np.nan,0)\n",
    "csv_path = os.path.join(DATA_PATH_OUTPUT, \"513AtividadesBairro_ativeco_ES_CNAE_IBGE_valuecounts_pivot.csv\")\n",
    "AtividadesBairro_ativeco_ES_CNAE_IBGE_valuecounts_pivot.to_csv(csv_path, index=True, header=True)\n",
    "print(\"513\", AtividadesBairro_ativeco_ES_CNAE_IBGE_valuecounts_pivot.shape)"
   ]
  },
  {
   "cell_type": "markdown",
   "metadata": {},
   "source": [
    "### Constrói saida\n",
    "- arquivo com tabela final (linhas de atividades) x (colunas de atividades)"
   ]
  },
  {
   "cell_type": "code",
   "execution_count": 35,
   "metadata": {},
   "outputs": [
    {
     "name": "stdout",
     "output_type": "stream",
     "text": [
      "43\n",
      "600 (386, 82)\n"
     ]
    }
   ],
   "source": [
    "#Transformar estrutura pivot multindex em estrutura tradicional (flat)\n",
    "Pivot_Flat = AtividadesBairro_ativeco_ES_CNAE_IBGE_valuecounts_pivot.loc[:]\n",
    "print(AtividadesBairro_ativeco_ES_CNAE_IBGE_valuecounts_pivot.columns.values[3][1])\n",
    "Pivot_Flat.columns   = ['_'.join(col) for col in AtividadesBairro_ativeco_ES_CNAE_IBGE_valuecounts_pivot.columns.values]\n",
    "\n",
    "# sort Dataframe columns\n",
    "Pivot_Flat = Pivot_Flat.sort_values(by = [\"Município\",\"Bairro\"])\n",
    "\n",
    "csv_path = os.path.join(DATA_PATH_OUTPUT, \"600Pivot_Flat.csv\")\n",
    "Pivot_Flat.to_csv(csv_path, index=True, header=True)\n",
    "print(\"600\", Pivot_Flat.shape)\n",
    "#Pivot_Flat.describe()"
   ]
  }
 ],
 "metadata": {
  "kernelspec": {
   "display_name": "Python 3 (ipykernel)",
   "language": "python",
   "name": "python3"
  },
  "language_info": {
   "codemirror_mode": {
    "name": "ipython",
    "version": 3
   },
   "file_extension": ".py",
   "mimetype": "text/x-python",
   "name": "python",
   "nbconvert_exporter": "python",
   "pygments_lexer": "ipython3",
   "version": "3.10.9"
  },
  "nav_menu": {
   "height": "279px",
   "width": "309px"
  },
  "toc": {
   "nav_menu": {},
   "number_sections": true,
   "sideBar": true,
   "skip_h1_title": false,
   "toc_cell": false,
   "toc_position": {},
   "toc_section_display": "block",
   "toc_window_display": false
  }
 },
 "nbformat": 4,
 "nbformat_minor": 4
}
