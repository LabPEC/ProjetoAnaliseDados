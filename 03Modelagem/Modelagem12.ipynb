{
 "cells": [
  {
   "cell_type": "markdown",
   "metadata": {},
   "source": [
    "**Projeto Análise de Dados**\n",
    "\n",
    "\n",
    "*Este bloco de notas contém todo o código usado para processamento da modelagem dos dados agrupados para criação e testes de um modelo de classificação*\n",
    "\n",
    "Este bloco de notas recebe como entrada o arquivo construído e fornecido pelo bloco de notas usado para análise exploratória e agrupamento (*clustering*) dos bairros e suas atividades.\n",
    "O arquivo de entrada contém uma tabela cujas linhas contêm os bairros presentes no arquivo ATIVECO_ES (mapeadas para os códigos de bairros do IBGE) e cuja coluna `pred` contêm a identificação do cluster ao qual cada bairro pertence.\n",
    "\n",
    "Para a modelagem são utilizados modelos de classificação multiclasse denominados classificadores multiclasses (também chamados classificadores multinomiais). Para análises e comparações foram utilizados os classificadores Stochastic Gradiente Descendente (*Stochastic Gradient Descent* - SGD), $k$-vizinhos mais pŕoximos (*$k$-Nearest Neighbors* - KNN), Florestas Aleatórias (*Random Forest* - RF) e Máquinas de Vetores de Suporte (*Suport Vector Machine* - SVM).\n",
    "\n",
    "Os modelos foram treinados e avaliados utilizanado o recurso da validação cruzada do Scikit-Learn. Os hiperparâmetros dos modelos foram ajustados utilizanado o recurso de *Grid Search* combinado com validação cruzada do Scikit-Learn."
   ]
  },
  {
   "cell_type": "markdown",
   "metadata": {},
   "source": [
    "# Setup"
   ]
  },
  {
   "cell_type": "markdown",
   "metadata": {},
   "source": [
    "Primeiro, vamos importar alguns módulos comuns, garantir que o MatplotLib plote figuras em linha e preparar uma função para salvar as figuras. Também verificamos se o Python 3.5 ou posterior está instalado (embora o Python 2.x possa funcionar, ele está obsoleto, por isso recomendamos fortemente que seja usado o Python 3), bem como o Scikit-Learn ≥0.20."
   ]
  },
  {
   "cell_type": "code",
   "execution_count": 1,
   "metadata": {},
   "outputs": [],
   "source": [
    "# Python ≥3.5 is required\n",
    "import sys\n",
    "assert sys.version_info >= (3, 5)\n",
    "\n",
    "# Scikit-Learn ≥0.20 is required\n",
    "import sklearn\n",
    "assert sklearn.__version__ >= \"0.20\"\n",
    "\n",
    "# Common imports\n",
    "import numpy as np\n",
    "import os\n",
    "\n",
    "# To plot pretty figures\n",
    "%matplotlib inline\n",
    "import matplotlib as mpl\n",
    "import matplotlib.pyplot as plt\n",
    "mpl.rc('axes', labelsize=14)\n",
    "mpl.rc('xtick', labelsize=12)\n",
    "mpl.rc('ytick', labelsize=12)\n",
    "\n",
    "# Where to save the figures\n",
    "#PROJECT_ROOT_DIR = \".\"\n",
    "#CHAPTER_ID = \"AnaliseExploratoria\"\n",
    "#IMAGES_PATH = os.path.join(PROJECT_ROOT_DIR, \"OUTPUT\",\"images\", CHAPTER_ID)\n",
    "#os.makedirs(IMAGES_PATH, exist_ok=True)\n",
    "\n",
    "DATA_PATH_INPUT= os.path.join(\".\", \"INPUT\")\n",
    "DATA_PATH_OUTPUT = os.path.join(\".\",\"OUTPUT\")\n",
    "\n",
    "def save_fig(fig_id, tight_layout=True, fig_extension=\"png\", resolution=300):\n",
    "    DATA_PATH_OUTPUT_IMAGE = os.path.join(\"OUTPUT\", \"Imagens\")\n",
    "    if not os.path.isdir(DATA_PATH_OUTPUT_IMAGE):\n",
    "        os.makedirs(DATA_PATH_OUTPUT_IMAGE)\n",
    "    path = os.path.join(DATA_PATH_OUTPUT, fig_id + \".\" + fig_extension)\n",
    "    print(\"Saving figure\", fig_id)\n",
    "    if tight_layout:\n",
    "        plt.tight_layout()\n",
    "    plt.savefig(path, format=fig_extension, dpi=resolution)"
   ]
  },
  {
   "cell_type": "markdown",
   "metadata": {},
   "source": [
    "# Carregando os dados do arquivos físicos"
   ]
  },
  {
   "cell_type": "code",
   "execution_count": 2,
   "metadata": {},
   "outputs": [],
   "source": [
    "import pandas as pd\n",
    "\n",
    "def load_cluster3(data_path=DATA_PATH_INPUT):\n",
    "    csv_path = os.path.join(data_path, \"504_PCA_Cluster3.csv\")\n",
    "    return pd.read_csv(csv_path)\n",
    "    ### Drop index while reading a CSV\n",
    "    # return pd.read_csv(csv_path, index_col=False)\n",
    "\n",
    "def load_data_SocioEconomico(data_path=DATA_PATH_INPUT):\n",
    "    csv_path = os.path.join(data_path, \"TabelaIBGE_Socio_Economica.csv\")\n",
    "    return pd.read_csv(csv_path)\n"
   ]
  },
  {
   "cell_type": "markdown",
   "metadata": {},
   "source": [
    "# Preparação dos dados Sócio-Econômicos"
   ]
  },
  {
   "cell_type": "code",
   "execution_count": 3,
   "metadata": {},
   "outputs": [
    {
     "data": {
      "text/html": [
       "<div>\n",
       "<style scoped>\n",
       "    .dataframe tbody tr th:only-of-type {\n",
       "        vertical-align: middle;\n",
       "    }\n",
       "\n",
       "    .dataframe tbody tr th {\n",
       "        vertical-align: top;\n",
       "    }\n",
       "\n",
       "    .dataframe thead th {\n",
       "        text-align: right;\n",
       "    }\n",
       "</style>\n",
       "<table border=\"1\" class=\"dataframe\">\n",
       "  <thead>\n",
       "    <tr style=\"text-align: right;\">\n",
       "      <th></th>\n",
       "      <th>Cód.</th>\n",
       "      <th>Bairro</th>\n",
       "      <th>Domicílios - Total</th>\n",
       "      <th>Domicílios - 1 morador</th>\n",
       "      <th>Domicílios - casa</th>\n",
       "      <th>Domicílios - apartamento</th>\n",
       "      <th>Domicílios ocupação - Próprio</th>\n",
       "      <th>Domicílios ocupação- alugado</th>\n",
       "      <th>Rede geral de esgoto ou pluvial</th>\n",
       "      <th>Lixo Coletado</th>\n",
       "      <th>...</th>\n",
       "      <th>Residentes – Homens</th>\n",
       "      <th>Residentes – Mulheres</th>\n",
       "      <th>Residentes – 0 a 9 anos</th>\n",
       "      <th>Residentes – 10 a 19 anos</th>\n",
       "      <th>Residentes – 20 a 29 anos</th>\n",
       "      <th>Residentes – 30 a 39 anos</th>\n",
       "      <th>Residentes – 40 a 49 anos</th>\n",
       "      <th>Residentes – 50 a 59 anos</th>\n",
       "      <th>Residentes – 60 a 69 anos</th>\n",
       "      <th>Residentes – 70 ou mais</th>\n",
       "    </tr>\n",
       "  </thead>\n",
       "  <tbody>\n",
       "    <tr>\n",
       "      <th>0</th>\n",
       "      <td>3201308001</td>\n",
       "      <td>Cruzeiro do Sul - Cariacica</td>\n",
       "      <td>1431</td>\n",
       "      <td>201</td>\n",
       "      <td>1099</td>\n",
       "      <td>329</td>\n",
       "      <td>962</td>\n",
       "      <td>416</td>\n",
       "      <td>1412</td>\n",
       "      <td>1427</td>\n",
       "      <td>...</td>\n",
       "      <td>1997</td>\n",
       "      <td>2221</td>\n",
       "      <td>482</td>\n",
       "      <td>656</td>\n",
       "      <td>697</td>\n",
       "      <td>689</td>\n",
       "      <td>683</td>\n",
       "      <td>502</td>\n",
       "      <td>289</td>\n",
       "      <td>220</td>\n",
       "    </tr>\n",
       "    <tr>\n",
       "      <th>1</th>\n",
       "      <td>3201308002</td>\n",
       "      <td>Vasco da Gama - Cariacica</td>\n",
       "      <td>392</td>\n",
       "      <td>58</td>\n",
       "      <td>372</td>\n",
       "      <td>20</td>\n",
       "      <td>296</td>\n",
       "      <td>95</td>\n",
       "      <td>320</td>\n",
       "      <td>390</td>\n",
       "      <td>...</td>\n",
       "      <td>526</td>\n",
       "      <td>632</td>\n",
       "      <td>145</td>\n",
       "      <td>154</td>\n",
       "      <td>214</td>\n",
       "      <td>197</td>\n",
       "      <td>155</td>\n",
       "      <td>140</td>\n",
       "      <td>76</td>\n",
       "      <td>77</td>\n",
       "    </tr>\n",
       "    <tr>\n",
       "      <th>2</th>\n",
       "      <td>3201308003</td>\n",
       "      <td>São Francisco - Cariacica</td>\n",
       "      <td>2162</td>\n",
       "      <td>311</td>\n",
       "      <td>1421</td>\n",
       "      <td>729</td>\n",
       "      <td>1576</td>\n",
       "      <td>503</td>\n",
       "      <td>2083</td>\n",
       "      <td>2162</td>\n",
       "      <td>...</td>\n",
       "      <td>3078</td>\n",
       "      <td>3356</td>\n",
       "      <td>883</td>\n",
       "      <td>1032</td>\n",
       "      <td>1272</td>\n",
       "      <td>1098</td>\n",
       "      <td>933</td>\n",
       "      <td>695</td>\n",
       "      <td>330</td>\n",
       "      <td>191</td>\n",
       "    </tr>\n",
       "    <tr>\n",
       "      <th>3</th>\n",
       "      <td>3201308004</td>\n",
       "      <td>Vila Palestina - Cariacica</td>\n",
       "      <td>1007</td>\n",
       "      <td>144</td>\n",
       "      <td>761</td>\n",
       "      <td>232</td>\n",
       "      <td>610</td>\n",
       "      <td>318</td>\n",
       "      <td>1002</td>\n",
       "      <td>1007</td>\n",
       "      <td>...</td>\n",
       "      <td>1435</td>\n",
       "      <td>1531</td>\n",
       "      <td>307</td>\n",
       "      <td>412</td>\n",
       "      <td>614</td>\n",
       "      <td>517</td>\n",
       "      <td>439</td>\n",
       "      <td>338</td>\n",
       "      <td>212</td>\n",
       "      <td>127</td>\n",
       "    </tr>\n",
       "    <tr>\n",
       "      <th>4</th>\n",
       "      <td>3201308005</td>\n",
       "      <td>Rosa da Penha - Cariacica</td>\n",
       "      <td>1230</td>\n",
       "      <td>133</td>\n",
       "      <td>1093</td>\n",
       "      <td>106</td>\n",
       "      <td>895</td>\n",
       "      <td>280</td>\n",
       "      <td>1216</td>\n",
       "      <td>1227</td>\n",
       "      <td>...</td>\n",
       "      <td>1820</td>\n",
       "      <td>1992</td>\n",
       "      <td>495</td>\n",
       "      <td>579</td>\n",
       "      <td>696</td>\n",
       "      <td>702</td>\n",
       "      <td>529</td>\n",
       "      <td>405</td>\n",
       "      <td>252</td>\n",
       "      <td>154</td>\n",
       "    </tr>\n",
       "  </tbody>\n",
       "</table>\n",
       "<p>5 rows × 35 columns</p>\n",
       "</div>"
      ],
      "text/plain": [
       "         Cód.                       Bairro Domicílios - Total  \\\n",
       "0  3201308001  Cruzeiro do Sul - Cariacica               1431   \n",
       "1  3201308002    Vasco da Gama - Cariacica                392   \n",
       "2  3201308003    São Francisco - Cariacica               2162   \n",
       "3  3201308004   Vila Palestina - Cariacica               1007   \n",
       "4  3201308005    Rosa da Penha - Cariacica               1230   \n",
       "\n",
       "  Domicílios - 1 morador Domicílios - casa Domicílios - apartamento  \\\n",
       "0                    201              1099                      329   \n",
       "1                     58               372                       20   \n",
       "2                    311              1421                      729   \n",
       "3                    144               761                      232   \n",
       "4                    133              1093                      106   \n",
       "\n",
       "  Domicílios ocupação - Próprio Domicílios ocupação- alugado  \\\n",
       "0                           962                          416   \n",
       "1                           296                           95   \n",
       "2                          1576                          503   \n",
       "3                           610                          318   \n",
       "4                           895                          280   \n",
       "\n",
       "  Rede geral de esgoto ou pluvial Lixo Coletado  ... Residentes – Homens  \\\n",
       "0                            1412          1427  ...                1997   \n",
       "1                             320           390  ...                 526   \n",
       "2                            2083          2162  ...                3078   \n",
       "3                            1002          1007  ...                1435   \n",
       "4                            1216          1227  ...                1820   \n",
       "\n",
       "   Residentes – Mulheres Residentes – 0 a 9 anos Residentes – 10 a 19 anos  \\\n",
       "0                   2221                     482                       656   \n",
       "1                    632                     145                       154   \n",
       "2                   3356                     883                      1032   \n",
       "3                   1531                     307                       412   \n",
       "4                   1992                     495                       579   \n",
       "\n",
       "  Residentes – 20 a 29 anos Residentes – 30 a 39 anos  \\\n",
       "0                       697                       689   \n",
       "1                       214                       197   \n",
       "2                      1272                      1098   \n",
       "3                       614                       517   \n",
       "4                       696                       702   \n",
       "\n",
       "  Residentes – 40 a 49 anos Residentes – 50 a 59 anos   \\\n",
       "0                       683                        502   \n",
       "1                       155                        140   \n",
       "2                       933                        695   \n",
       "3                       439                        338   \n",
       "4                       529                        405   \n",
       "\n",
       "  Residentes – 60 a 69 anos  Residentes – 70 ou mais  \n",
       "0                        289                     220  \n",
       "1                         76                      77  \n",
       "2                        330                     191  \n",
       "3                        212                     127  \n",
       "4                        252                     154  \n",
       "\n",
       "[5 rows x 35 columns]"
      ]
     },
     "execution_count": 3,
     "metadata": {},
     "output_type": "execute_result"
    }
   ],
   "source": [
    "### Leitura da base de dados com informações sócio-econômicas\n",
    "### Cada linha um bairro e cada característica  sócio-econômica nas colunas\n",
    "Socio_Economica = load_data_SocioEconomico()\n",
    "Socio_Economica.head()"
   ]
  },
  {
   "cell_type": "code",
   "execution_count": 4,
   "metadata": {},
   "outputs": [
    {
     "data": {
      "text/plain": [
       "(406, 35)"
      ]
     },
     "execution_count": 4,
     "metadata": {},
     "output_type": "execute_result"
    }
   ],
   "source": [
    "Socio_Economica.shape"
   ]
  },
  {
   "cell_type": "code",
   "execution_count": 5,
   "metadata": {},
   "outputs": [
    {
     "name": "stdout",
     "output_type": "stream",
     "text": [
      "<class 'pandas.core.frame.DataFrame'>\n",
      "RangeIndex: 406 entries, 0 to 405\n",
      "Data columns (total 35 columns):\n",
      " #   Column                                            Non-Null Count  Dtype \n",
      "---  ------                                            --------------  ----- \n",
      " 0   Cód.                                              406 non-null    int64 \n",
      " 1   Bairro                                            406 non-null    object\n",
      " 2   Domicílios - Total                                406 non-null    object\n",
      " 3   Domicílios - 1 morador                            406 non-null    object\n",
      " 4   Domicílios - casa                                 406 non-null    object\n",
      " 5   Domicílios - apartamento                          406 non-null    object\n",
      " 6   Domicílios ocupação - Próprio                     406 non-null    object\n",
      " 7   Domicílios ocupação- alugado                      406 non-null    object\n",
      " 8   Rede geral de esgoto ou pluvial                   406 non-null    object\n",
      " 9   Lixo Coletado                                     406 non-null    object\n",
      " 10  Média de moradores domicílios                     406 non-null    object\n",
      " 11  Residente – Total                                 406 non-null    int64 \n",
      " 12  Residente - não pensionista                       406 non-null    object\n",
      " 13  10+ anos- Total                                   406 non-null    object\n",
      " 14  10+ anos – alfabetizadas                          406 non-null    object\n",
      " 15  10+ anos – Taxa de alfabetização                  406 non-null    object\n",
      " 16  5+ anos – total                                   406 non-null    object\n",
      " 17  5+ anos – alfabetizadas                           406 non-null    object\n",
      " 18  Rendimento médio mensal dos domicílios (Reais)    406 non-null    object\n",
      " 19  rendimento mediano mensal dos domicílios (Reais)  406 non-null    object\n",
      " 20  Rendimento médio mensal 10+ anos                  406 non-null    object\n",
      " 21  Rendimento mediano mensal 10+ anos                406 non-null    object\n",
      " 22  Domicílios até 1 salário mínimo (Unidades)        406 non-null    object\n",
      " 23  Domicílios até 15+ salário mínimo (Unidades)      406 non-null    object\n",
      " 24  Domicílios  sem rendimentos (Unidades)            406 non-null    object\n",
      " 25  Residentes – Homens                               406 non-null    object\n",
      " 26  Residentes – Mulheres                             406 non-null    object\n",
      " 27  Residentes – 0 a 9 anos                           406 non-null    object\n",
      " 28  Residentes – 10 a 19 anos                         406 non-null    object\n",
      " 29  Residentes – 20 a 29 anos                         406 non-null    object\n",
      " 30  Residentes – 30 a 39 anos                         406 non-null    object\n",
      " 31  Residentes – 40 a 49 anos                         406 non-null    object\n",
      " 32  Residentes – 50 a 59 anos                         406 non-null    object\n",
      " 33  Residentes – 60 a 69 anos                         406 non-null    object\n",
      " 34  Residentes – 70 ou mais                           406 non-null    object\n",
      "dtypes: int64(2), object(33)\n",
      "memory usage: 111.1+ KB\n"
     ]
    }
   ],
   "source": [
    "Socio_Economica.info()"
   ]
  },
  {
   "cell_type": "code",
   "execution_count": 6,
   "metadata": {},
   "outputs": [
    {
     "name": "stdout",
     "output_type": "stream",
     "text": [
      "001 (406, 35)\n"
     ]
    }
   ],
   "source": [
    "csv_path = os.path.join(DATA_PATH_OUTPUT, \"001Socio_Economica.csv\")\n",
    "Socio_Economica.to_csv(csv_path, index=True, header=True)\n",
    "print(\"001\", Socio_Economica.shape)"
   ]
  },
  {
   "cell_type": "code",
   "execution_count": 7,
   "metadata": {},
   "outputs": [
    {
     "name": "stdout",
     "output_type": "stream",
     "text": [
      "002 (403, 35)\n"
     ]
    }
   ],
   "source": [
    "### Substituir caracter \"-\" por zero. IBGE apresenta \"vazio\" = \"-\".\n",
    "## Como todos os campos são numéricos, \"vazio\" = 0 para nós\n",
    "Socio_Economica = Socio_Economica.replace('-',0)\n",
    "\n",
    "### do arquivo sintese-indicadores-sociais-ibge-2022.pdf\n",
    "#Convenções\n",
    "# -               Dado numérico igual a zero não resultante de arredondamento;\n",
    "# ..              Não se aplica dado numérico;\n",
    "# ...             Dado numérico não disponível;\n",
    "# X               Dado numérico omitido a fim de evitar a individualização da informação;\n",
    "# 0; 0,0; 0,00    Dado numérico igual a zero resultante de arredondamento de um dado numérico originalmente positivo; e\n",
    "# -0; -0,0; -0,00 Dado numérico igual a zero resultante de arredondamento de um dado numérico originalmente negativo.\n",
    "\n",
    "\n",
    "### Remover linhas com colunas com 'X' (Dado numérico omitido a fim de evitar a individualização da informação).\n",
    "## 3201308060 - Porto das Pedras - Cariacica (população total = 10)\n",
    "## 3201308062 - Porto Engenho - Cariacica (população total = 8)\n",
    "## 3205002059 - Terminal Intermodal da Serra - Serra (ES) (população total = 1)\n",
    "\n",
    "#df = df[~(df == '?').any(axis=1)]\n",
    "Socio_Economica_Clean = Socio_Economica[(Socio_Economica != 'X').all(axis=1)]\n",
    "Socio_Economica_Clean.reset_index(inplace=True,drop=True)\n",
    "csv_path = os.path.join(DATA_PATH_OUTPUT, \"002Socio_Economica_Clean.csv\")\n",
    "Socio_Economica_Clean.to_csv(csv_path, index=True, header=True)\n",
    "print(\"002\", Socio_Economica_Clean.shape)\n"
   ]
  },
  {
   "cell_type": "code",
   "execution_count": 8,
   "metadata": {},
   "outputs": [],
   "source": [
    "#Socio_Economica_Clean.loc[\"Cód.\"] = Socio_Economica_Clean.loc[\"Cód.\"].astype(str)\n",
    "Socio_Economica_Clean = Socio_Economica_Clean.astype({'Domicílios - Total':'int'})\n",
    "cols = Socio_Economica_Clean.columns.drop(['Cód.','Bairro'])\n",
    "Socio_Economica_Clean[cols] = Socio_Economica_Clean[cols].apply(pd.to_numeric, errors='coerce')\n",
    "\n",
    "\n"
   ]
  },
  {
   "cell_type": "code",
   "execution_count": 9,
   "metadata": {},
   "outputs": [
    {
     "name": "stdout",
     "output_type": "stream",
     "text": [
      "<class 'pandas.core.frame.DataFrame'>\n",
      "RangeIndex: 403 entries, 0 to 402\n",
      "Data columns (total 35 columns):\n",
      " #   Column                                            Non-Null Count  Dtype  \n",
      "---  ------                                            --------------  -----  \n",
      " 0   Cód.                                              403 non-null    int64  \n",
      " 1   Bairro                                            403 non-null    object \n",
      " 2   Domicílios - Total                                403 non-null    int64  \n",
      " 3   Domicílios - 1 morador                            403 non-null    int64  \n",
      " 4   Domicílios - casa                                 403 non-null    int64  \n",
      " 5   Domicílios - apartamento                          403 non-null    int64  \n",
      " 6   Domicílios ocupação - Próprio                     403 non-null    int64  \n",
      " 7   Domicílios ocupação- alugado                      403 non-null    int64  \n",
      " 8   Rede geral de esgoto ou pluvial                   403 non-null    int64  \n",
      " 9   Lixo Coletado                                     403 non-null    int64  \n",
      " 10  Média de moradores domicílios                     403 non-null    float64\n",
      " 11  Residente – Total                                 403 non-null    int64  \n",
      " 12  Residente - não pensionista                       403 non-null    int64  \n",
      " 13  10+ anos- Total                                   403 non-null    int64  \n",
      " 14  10+ anos – alfabetizadas                          403 non-null    int64  \n",
      " 15  10+ anos – Taxa de alfabetização                  403 non-null    float64\n",
      " 16  5+ anos – total                                   403 non-null    int64  \n",
      " 17  5+ anos – alfabetizadas                           403 non-null    int64  \n",
      " 18  Rendimento médio mensal dos domicílios (Reais)    403 non-null    float64\n",
      " 19  rendimento mediano mensal dos domicílios (Reais)  403 non-null    float64\n",
      " 20  Rendimento médio mensal 10+ anos                  403 non-null    float64\n",
      " 21  Rendimento mediano mensal 10+ anos                403 non-null    float64\n",
      " 22  Domicílios até 1 salário mínimo (Unidades)        403 non-null    int64  \n",
      " 23  Domicílios até 15+ salário mínimo (Unidades)      403 non-null    int64  \n",
      " 24  Domicílios  sem rendimentos (Unidades)            403 non-null    int64  \n",
      " 25  Residentes – Homens                               403 non-null    int64  \n",
      " 26  Residentes – Mulheres                             403 non-null    int64  \n",
      " 27  Residentes – 0 a 9 anos                           403 non-null    int64  \n",
      " 28  Residentes – 10 a 19 anos                         403 non-null    int64  \n",
      " 29  Residentes – 20 a 29 anos                         403 non-null    int64  \n",
      " 30  Residentes – 30 a 39 anos                         403 non-null    int64  \n",
      " 31  Residentes – 40 a 49 anos                         403 non-null    int64  \n",
      " 32  Residentes – 50 a 59 anos                         403 non-null    int64  \n",
      " 33  Residentes – 60 a 69 anos                         403 non-null    int64  \n",
      " 34  Residentes – 70 ou mais                           403 non-null    int64  \n",
      "dtypes: float64(6), int64(28), object(1)\n",
      "memory usage: 110.3+ KB\n"
     ]
    }
   ],
   "source": [
    "Socio_Economica_Clean.info()"
   ]
  },
  {
   "cell_type": "markdown",
   "metadata": {},
   "source": [
    "# Criação base de dados para modelagem\n",
    "- Inserir o número do cluster calculado pelo K-means na base socio-economica (merge)\n",
    "- Em seguida, separar a base socio-economica em treinamento e teste"
   ]
  },
  {
   "cell_type": "code",
   "execution_count": 10,
   "metadata": {},
   "outputs": [
    {
     "name": "stdout",
     "output_type": "stream",
     "text": [
      "003 (386, 4)\n"
     ]
    }
   ],
   "source": [
    "### Leitura da base de dados com informações sócio-econômicas\n",
    "### Cada linha um bairro e cada característica  sócio-econômica nas colunas\n",
    "PCA_Cluster3 = load_cluster3()\n",
    "#PCA_Cluster3.head()\n",
    "\n",
    "csv_path = os.path.join(DATA_PATH_OUTPUT, \"003PCA_Cluster3.csv\")\n",
    "PCA_Cluster3.to_csv(csv_path, index=True, header=True)\n",
    "print(\"003\", PCA_Cluster3.shape)"
   ]
  },
  {
   "cell_type": "code",
   "execution_count": 11,
   "metadata": {},
   "outputs": [
    {
     "name": "stdout",
     "output_type": "stream",
     "text": [
      "100 (383, 36)\n"
     ]
    },
    {
     "data": {
      "text/plain": [
       "2    297\n",
       "0     74\n",
       "1     12\n",
       "Name: pred, dtype: int64"
      ]
     },
     "execution_count": 11,
     "metadata": {},
     "output_type": "execute_result"
    }
   ],
   "source": [
    "Socio_Economica_Cluster3 = pd.merge(PCA_Cluster3[[\"Cód.\",\"pred\"]], Socio_Economica_Clean, left_on = 'Cód.', right_on = 'Cód.')\n",
    "\n",
    "csv_path = os.path.join(DATA_PATH_OUTPUT, \"100Socio_Economica_Cluster3.csv\")\n",
    "Socio_Economica_Cluster3.to_csv(csv_path, index=True, header=True)\n",
    "print(\"100\", Socio_Economica_Cluster3.shape)\n",
    "\n",
    "\n",
    "Socio_Economica_Cluster3[\"pred\"].value_counts()\n"
   ]
  },
  {
   "cell_type": "markdown",
   "metadata": {},
   "source": [
    "# Criando um conjunto de teste estratificado"
   ]
  },
  {
   "cell_type": "markdown",
   "metadata": {},
   "source": [
    "### Amostragem estratificada com base na categoria \"pred\"\n",
    "Na amostragem estratificada a população é dividida em subgrupos homogêneos, chamados de estratos, e o número certo de instâncias de cada estrato é amostrado para garantir que o conjunto de testes seja representativo da população em geral.\n",
    "\n",
    "Por exemplo, a população dos EUA é composta por 51,3% de pessoas do sexo feminino e 48,7% do sexo masculino, de modo que uma pesquisa bem conduzida tentaria manter essa proporção na amostragem: 513 mulheres e 487 homens."
   ]
  },
  {
   "cell_type": "code",
   "execution_count": 12,
   "metadata": {},
   "outputs": [],
   "source": [
    "from sklearn.model_selection import StratifiedShuffleSplit\n",
    "\n",
    "### Cria dois conjuntos: treinamento e teste divididos percentualmente em test_ratio\n",
    "def split_stratified_train_test_by_id(data, test_ratio, id_column, random_stat):\n",
    "    split = StratifiedShuffleSplit(n_splits=1, test_size=test_ratio, random_state=random_stat)\n",
    "    for train_index, test_index in split.split(data, data[id_column]):\n",
    "        train_set = data.iloc[train_index]\n",
    "        test_set = data.iloc[test_index]\n",
    "    return train_set,test_set\n",
    "\n",
    "\n",
    "### Cria três conjuntos: treinamento, validação e teste\n",
    "# divididos percentualmente em tune_ratio e test_ratio, respectivamente\n",
    "def split_stratified_train_tune_test_by_id(data, tune_ratio, test_ratio, id_column, random_stat):\n",
    "    split = StratifiedShuffleSplit(n_splits=1, test_size=test_ratio, random_state=random_stat)\n",
    "    for train_index, test_valid_index in split.split(data, Socio_Economica_Cluster3.pred):\n",
    "        train_set = data.iloc[train_index]\n",
    "        test_valid_set = data.iloc[test_valid_index]\n",
    "\n",
    "    split2 = StratifiedShuffleSplit(n_splits=1, test_size=tune_ratio, random_state=42)\n",
    "    for test_index, valid_index in split2.split(test_valid_set, test_valid_set.pred):\n",
    "        test_set = test_valid_set.iloc[test_index]\n",
    "        valid_set = test_valid_set.iloc[valid_index]\n",
    "    return train_set,tune_set, test_set            \n",
    "            \n",
    "            "
   ]
  },
  {
   "cell_type": "code",
   "execution_count": 13,
   "metadata": {},
   "outputs": [],
   "source": [
    "strat_train_set, strat_test_set = split_stratified_train_test_by_id(Socio_Economica_Cluster3, 0.2, \"pred\", 0)\n"
   ]
  },
  {
   "cell_type": "code",
   "execution_count": 14,
   "metadata": {},
   "outputs": [
    {
     "name": "stdout",
     "output_type": "stream",
     "text": [
      "2    237\n",
      "0     59\n",
      "1     10\n",
      "Name: pred, dtype: int64\n"
     ]
    },
    {
     "data": {
      "text/plain": [
       "2    0.77451\n",
       "0    0.19281\n",
       "1    0.03268\n",
       "Name: pred, dtype: float64"
      ]
     },
     "execution_count": 14,
     "metadata": {},
     "output_type": "execute_result"
    }
   ],
   "source": [
    "print(strat_train_set[\"pred\"].value_counts())\n",
    "strat_train_set[\"pred\"].value_counts() / len(strat_train_set)"
   ]
  },
  {
   "cell_type": "code",
   "execution_count": 15,
   "metadata": {},
   "outputs": [
    {
     "name": "stdout",
     "output_type": "stream",
     "text": [
      "2    60\n",
      "0    15\n",
      "1     2\n",
      "Name: pred, dtype: int64\n"
     ]
    },
    {
     "data": {
      "text/plain": [
       "2    0.779221\n",
       "0    0.194805\n",
       "1    0.025974\n",
       "Name: pred, dtype: float64"
      ]
     },
     "execution_count": 15,
     "metadata": {},
     "output_type": "execute_result"
    }
   ],
   "source": [
    "print(strat_test_set[\"pred\"].value_counts())\n",
    "strat_test_set[\"pred\"].value_counts() / len(strat_test_set)"
   ]
  },
  {
   "cell_type": "markdown",
   "metadata": {},
   "source": [
    "# Dimensionando os conjuntos de treinamento e teste\n",
    "\n",
    "os algoritmos de Aprendizado de Máquina não funcionam bem quando atributos numéricos de entrada têm escalas muito diferentes."
   ]
  },
  {
   "cell_type": "code",
   "execution_count": 16,
   "metadata": {},
   "outputs": [],
   "source": [
    "SE_train_set = strat_train_set.drop([\"Cód.\",\"Bairro\",\"pred\"], axis=1) # drop labels for training set\n",
    "SE_train_set_labels = strat_train_set[\"pred\"].copy()"
   ]
  },
  {
   "cell_type": "code",
   "execution_count": 17,
   "metadata": {},
   "outputs": [
    {
     "data": {
      "text/html": [
       "<div>\n",
       "<style scoped>\n",
       "    .dataframe tbody tr th:only-of-type {\n",
       "        vertical-align: middle;\n",
       "    }\n",
       "\n",
       "    .dataframe tbody tr th {\n",
       "        vertical-align: top;\n",
       "    }\n",
       "\n",
       "    .dataframe thead th {\n",
       "        text-align: right;\n",
       "    }\n",
       "</style>\n",
       "<table border=\"1\" class=\"dataframe\">\n",
       "  <thead>\n",
       "    <tr style=\"text-align: right;\">\n",
       "      <th></th>\n",
       "      <th>Domicílios - Total</th>\n",
       "      <th>Domicílios - 1 morador</th>\n",
       "      <th>Domicílios - casa</th>\n",
       "      <th>Domicílios - apartamento</th>\n",
       "      <th>Domicílios ocupação - Próprio</th>\n",
       "      <th>Domicílios ocupação- alugado</th>\n",
       "      <th>Rede geral de esgoto ou pluvial</th>\n",
       "      <th>Lixo Coletado</th>\n",
       "      <th>Média de moradores domicílios</th>\n",
       "      <th>Residente – Total</th>\n",
       "      <th>...</th>\n",
       "      <th>Residentes – Homens</th>\n",
       "      <th>Residentes – Mulheres</th>\n",
       "      <th>Residentes – 0 a 9 anos</th>\n",
       "      <th>Residentes – 10 a 19 anos</th>\n",
       "      <th>Residentes – 20 a 29 anos</th>\n",
       "      <th>Residentes – 30 a 39 anos</th>\n",
       "      <th>Residentes – 40 a 49 anos</th>\n",
       "      <th>Residentes – 50 a 59 anos</th>\n",
       "      <th>Residentes – 60 a 69 anos</th>\n",
       "      <th>Residentes – 70 ou mais</th>\n",
       "    </tr>\n",
       "  </thead>\n",
       "  <tbody>\n",
       "    <tr>\n",
       "      <th>268</th>\n",
       "      <td>2521</td>\n",
       "      <td>294</td>\n",
       "      <td>2144</td>\n",
       "      <td>368</td>\n",
       "      <td>1753</td>\n",
       "      <td>568</td>\n",
       "      <td>1573</td>\n",
       "      <td>2519</td>\n",
       "      <td>3.17</td>\n",
       "      <td>8003</td>\n",
       "      <td>...</td>\n",
       "      <td>3849</td>\n",
       "      <td>4154</td>\n",
       "      <td>1073</td>\n",
       "      <td>1296</td>\n",
       "      <td>1415</td>\n",
       "      <td>1250</td>\n",
       "      <td>1204</td>\n",
       "      <td>878</td>\n",
       "      <td>464</td>\n",
       "      <td>423</td>\n",
       "    </tr>\n",
       "    <tr>\n",
       "      <th>275</th>\n",
       "      <td>2525</td>\n",
       "      <td>335</td>\n",
       "      <td>2423</td>\n",
       "      <td>71</td>\n",
       "      <td>1822</td>\n",
       "      <td>507</td>\n",
       "      <td>2146</td>\n",
       "      <td>2524</td>\n",
       "      <td>3.09</td>\n",
       "      <td>7822</td>\n",
       "      <td>...</td>\n",
       "      <td>3750</td>\n",
       "      <td>4072</td>\n",
       "      <td>1059</td>\n",
       "      <td>1249</td>\n",
       "      <td>1372</td>\n",
       "      <td>1298</td>\n",
       "      <td>1155</td>\n",
       "      <td>798</td>\n",
       "      <td>506</td>\n",
       "      <td>385</td>\n",
       "    </tr>\n",
       "    <tr>\n",
       "      <th>226</th>\n",
       "      <td>3982</td>\n",
       "      <td>632</td>\n",
       "      <td>933</td>\n",
       "      <td>2990</td>\n",
       "      <td>2639</td>\n",
       "      <td>1172</td>\n",
       "      <td>3176</td>\n",
       "      <td>3960</td>\n",
       "      <td>2.91</td>\n",
       "      <td>11648</td>\n",
       "      <td>...</td>\n",
       "      <td>5705</td>\n",
       "      <td>5943</td>\n",
       "      <td>1304</td>\n",
       "      <td>1693</td>\n",
       "      <td>1986</td>\n",
       "      <td>2049</td>\n",
       "      <td>1990</td>\n",
       "      <td>1492</td>\n",
       "      <td>693</td>\n",
       "      <td>441</td>\n",
       "    </tr>\n",
       "    <tr>\n",
       "      <th>296</th>\n",
       "      <td>1031</td>\n",
       "      <td>129</td>\n",
       "      <td>997</td>\n",
       "      <td>33</td>\n",
       "      <td>771</td>\n",
       "      <td>214</td>\n",
       "      <td>137</td>\n",
       "      <td>1030</td>\n",
       "      <td>3.33</td>\n",
       "      <td>3445</td>\n",
       "      <td>...</td>\n",
       "      <td>1730</td>\n",
       "      <td>1715</td>\n",
       "      <td>575</td>\n",
       "      <td>667</td>\n",
       "      <td>633</td>\n",
       "      <td>595</td>\n",
       "      <td>471</td>\n",
       "      <td>320</td>\n",
       "      <td>120</td>\n",
       "      <td>64</td>\n",
       "    </tr>\n",
       "    <tr>\n",
       "      <th>198</th>\n",
       "      <td>2161</td>\n",
       "      <td>202</td>\n",
       "      <td>2134</td>\n",
       "      <td>25</td>\n",
       "      <td>1727</td>\n",
       "      <td>309</td>\n",
       "      <td>1460</td>\n",
       "      <td>1866</td>\n",
       "      <td>3.32</td>\n",
       "      <td>7175</td>\n",
       "      <td>...</td>\n",
       "      <td>3519</td>\n",
       "      <td>3656</td>\n",
       "      <td>1152</td>\n",
       "      <td>1221</td>\n",
       "      <td>1471</td>\n",
       "      <td>1172</td>\n",
       "      <td>886</td>\n",
       "      <td>689</td>\n",
       "      <td>347</td>\n",
       "      <td>237</td>\n",
       "    </tr>\n",
       "    <tr>\n",
       "      <th>...</th>\n",
       "      <td>...</td>\n",
       "      <td>...</td>\n",
       "      <td>...</td>\n",
       "      <td>...</td>\n",
       "      <td>...</td>\n",
       "      <td>...</td>\n",
       "      <td>...</td>\n",
       "      <td>...</td>\n",
       "      <td>...</td>\n",
       "      <td>...</td>\n",
       "      <td>...</td>\n",
       "      <td>...</td>\n",
       "      <td>...</td>\n",
       "      <td>...</td>\n",
       "      <td>...</td>\n",
       "      <td>...</td>\n",
       "      <td>...</td>\n",
       "      <td>...</td>\n",
       "      <td>...</td>\n",
       "      <td>...</td>\n",
       "      <td>...</td>\n",
       "    </tr>\n",
       "    <tr>\n",
       "      <th>193</th>\n",
       "      <td>643</td>\n",
       "      <td>72</td>\n",
       "      <td>643</td>\n",
       "      <td>0</td>\n",
       "      <td>499</td>\n",
       "      <td>110</td>\n",
       "      <td>431</td>\n",
       "      <td>619</td>\n",
       "      <td>3.59</td>\n",
       "      <td>2307</td>\n",
       "      <td>...</td>\n",
       "      <td>1159</td>\n",
       "      <td>1148</td>\n",
       "      <td>472</td>\n",
       "      <td>470</td>\n",
       "      <td>408</td>\n",
       "      <td>399</td>\n",
       "      <td>241</td>\n",
       "      <td>173</td>\n",
       "      <td>89</td>\n",
       "      <td>55</td>\n",
       "    </tr>\n",
       "    <tr>\n",
       "      <th>95</th>\n",
       "      <td>865</td>\n",
       "      <td>81</td>\n",
       "      <td>862</td>\n",
       "      <td>3</td>\n",
       "      <td>647</td>\n",
       "      <td>167</td>\n",
       "      <td>26</td>\n",
       "      <td>865</td>\n",
       "      <td>3.41</td>\n",
       "      <td>2952</td>\n",
       "      <td>...</td>\n",
       "      <td>1431</td>\n",
       "      <td>1521</td>\n",
       "      <td>451</td>\n",
       "      <td>591</td>\n",
       "      <td>498</td>\n",
       "      <td>510</td>\n",
       "      <td>400</td>\n",
       "      <td>271</td>\n",
       "      <td>137</td>\n",
       "      <td>94</td>\n",
       "    </tr>\n",
       "    <tr>\n",
       "      <th>229</th>\n",
       "      <td>390</td>\n",
       "      <td>55</td>\n",
       "      <td>340</td>\n",
       "      <td>42</td>\n",
       "      <td>231</td>\n",
       "      <td>127</td>\n",
       "      <td>389</td>\n",
       "      <td>390</td>\n",
       "      <td>3.07</td>\n",
       "      <td>1199</td>\n",
       "      <td>...</td>\n",
       "      <td>611</td>\n",
       "      <td>588</td>\n",
       "      <td>161</td>\n",
       "      <td>195</td>\n",
       "      <td>284</td>\n",
       "      <td>185</td>\n",
       "      <td>177</td>\n",
       "      <td>131</td>\n",
       "      <td>37</td>\n",
       "      <td>29</td>\n",
       "    </tr>\n",
       "    <tr>\n",
       "      <th>216</th>\n",
       "      <td>2224</td>\n",
       "      <td>279</td>\n",
       "      <td>1591</td>\n",
       "      <td>614</td>\n",
       "      <td>1491</td>\n",
       "      <td>585</td>\n",
       "      <td>2062</td>\n",
       "      <td>2218</td>\n",
       "      <td>3.07</td>\n",
       "      <td>6835</td>\n",
       "      <td>...</td>\n",
       "      <td>3261</td>\n",
       "      <td>3574</td>\n",
       "      <td>839</td>\n",
       "      <td>1127</td>\n",
       "      <td>1263</td>\n",
       "      <td>1098</td>\n",
       "      <td>992</td>\n",
       "      <td>769</td>\n",
       "      <td>417</td>\n",
       "      <td>330</td>\n",
       "    </tr>\n",
       "    <tr>\n",
       "      <th>121</th>\n",
       "      <td>2630</td>\n",
       "      <td>325</td>\n",
       "      <td>2316</td>\n",
       "      <td>218</td>\n",
       "      <td>1817</td>\n",
       "      <td>650</td>\n",
       "      <td>2352</td>\n",
       "      <td>2612</td>\n",
       "      <td>3.11</td>\n",
       "      <td>8216</td>\n",
       "      <td>...</td>\n",
       "      <td>3874</td>\n",
       "      <td>4342</td>\n",
       "      <td>950</td>\n",
       "      <td>1082</td>\n",
       "      <td>1524</td>\n",
       "      <td>1262</td>\n",
       "      <td>1143</td>\n",
       "      <td>1119</td>\n",
       "      <td>676</td>\n",
       "      <td>460</td>\n",
       "    </tr>\n",
       "  </tbody>\n",
       "</table>\n",
       "<p>306 rows × 33 columns</p>\n",
       "</div>"
      ],
      "text/plain": [
       "     Domicílios - Total  Domicílios - 1 morador  Domicílios - casa  \\\n",
       "268                2521                     294               2144   \n",
       "275                2525                     335               2423   \n",
       "226                3982                     632                933   \n",
       "296                1031                     129                997   \n",
       "198                2161                     202               2134   \n",
       "..                  ...                     ...                ...   \n",
       "193                 643                      72                643   \n",
       "95                  865                      81                862   \n",
       "229                 390                      55                340   \n",
       "216                2224                     279               1591   \n",
       "121                2630                     325               2316   \n",
       "\n",
       "     Domicílios - apartamento  Domicílios ocupação - Próprio  \\\n",
       "268                       368                           1753   \n",
       "275                        71                           1822   \n",
       "226                      2990                           2639   \n",
       "296                        33                            771   \n",
       "198                        25                           1727   \n",
       "..                        ...                            ...   \n",
       "193                         0                            499   \n",
       "95                          3                            647   \n",
       "229                        42                            231   \n",
       "216                       614                           1491   \n",
       "121                       218                           1817   \n",
       "\n",
       "     Domicílios ocupação- alugado  Rede geral de esgoto ou pluvial  \\\n",
       "268                           568                             1573   \n",
       "275                           507                             2146   \n",
       "226                          1172                             3176   \n",
       "296                           214                              137   \n",
       "198                           309                             1460   \n",
       "..                            ...                              ...   \n",
       "193                           110                              431   \n",
       "95                            167                               26   \n",
       "229                           127                              389   \n",
       "216                           585                             2062   \n",
       "121                           650                             2352   \n",
       "\n",
       "     Lixo Coletado  Média de moradores domicílios  Residente – Total  ...  \\\n",
       "268           2519                           3.17               8003  ...   \n",
       "275           2524                           3.09               7822  ...   \n",
       "226           3960                           2.91              11648  ...   \n",
       "296           1030                           3.33               3445  ...   \n",
       "198           1866                           3.32               7175  ...   \n",
       "..             ...                            ...                ...  ...   \n",
       "193            619                           3.59               2307  ...   \n",
       "95             865                           3.41               2952  ...   \n",
       "229            390                           3.07               1199  ...   \n",
       "216           2218                           3.07               6835  ...   \n",
       "121           2612                           3.11               8216  ...   \n",
       "\n",
       "     Residentes – Homens  Residentes – Mulheres  Residentes – 0 a 9 anos  \\\n",
       "268                 3849                   4154                     1073   \n",
       "275                 3750                   4072                     1059   \n",
       "226                 5705                   5943                     1304   \n",
       "296                 1730                   1715                      575   \n",
       "198                 3519                   3656                     1152   \n",
       "..                   ...                    ...                      ...   \n",
       "193                 1159                   1148                      472   \n",
       "95                  1431                   1521                      451   \n",
       "229                  611                    588                      161   \n",
       "216                 3261                   3574                      839   \n",
       "121                 3874                   4342                      950   \n",
       "\n",
       "     Residentes – 10 a 19 anos  Residentes – 20 a 29 anos  \\\n",
       "268                       1296                       1415   \n",
       "275                       1249                       1372   \n",
       "226                       1693                       1986   \n",
       "296                        667                        633   \n",
       "198                       1221                       1471   \n",
       "..                         ...                        ...   \n",
       "193                        470                        408   \n",
       "95                         591                        498   \n",
       "229                        195                        284   \n",
       "216                       1127                       1263   \n",
       "121                       1082                       1524   \n",
       "\n",
       "     Residentes – 30 a 39 anos  Residentes – 40 a 49 anos  \\\n",
       "268                       1250                       1204   \n",
       "275                       1298                       1155   \n",
       "226                       2049                       1990   \n",
       "296                        595                        471   \n",
       "198                       1172                        886   \n",
       "..                         ...                        ...   \n",
       "193                        399                        241   \n",
       "95                         510                        400   \n",
       "229                        185                        177   \n",
       "216                       1098                        992   \n",
       "121                       1262                       1143   \n",
       "\n",
       "     Residentes – 50 a 59 anos   Residentes – 60 a 69 anos   \\\n",
       "268                         878                         464   \n",
       "275                         798                         506   \n",
       "226                        1492                         693   \n",
       "296                         320                         120   \n",
       "198                         689                         347   \n",
       "..                          ...                         ...   \n",
       "193                         173                          89   \n",
       "95                          271                         137   \n",
       "229                         131                          37   \n",
       "216                         769                         417   \n",
       "121                        1119                         676   \n",
       "\n",
       "     Residentes – 70 ou mais  \n",
       "268                      423  \n",
       "275                      385  \n",
       "226                      441  \n",
       "296                       64  \n",
       "198                      237  \n",
       "..                       ...  \n",
       "193                       55  \n",
       "95                        94  \n",
       "229                       29  \n",
       "216                      330  \n",
       "121                      460  \n",
       "\n",
       "[306 rows x 33 columns]"
      ]
     },
     "execution_count": 17,
     "metadata": {},
     "output_type": "execute_result"
    }
   ],
   "source": [
    "SE_train_set"
   ]
  },
  {
   "cell_type": "code",
   "execution_count": 18,
   "metadata": {},
   "outputs": [],
   "source": [
    "### Standardization: first it subtracts the mean value (so standardized values always have a zero mean),\n",
    "### and then it divides by the standard deviation so that the resulting distribution has unit variance.\n",
    "from sklearn.preprocessing import StandardScaler\n",
    "scaler = StandardScaler()\n",
    "SE_train_set_Scaler = scaler.fit_transform(SE_train_set)\n",
    "\n",
    "### Min-max scaling (many people call this normalization) is quite simple:\n",
    "### values are shifted and rescaled so that they end up ranging from 0 to 1.\n",
    "### neural networks often expect an input value ranging from 0 to 1\n",
    "#from sklearn.preprocessing import MinMaxScaler\n",
    "#scaler = MinMaxScaler()\n",
    "#SE_train_set_Scaler = scaler.fit_transform(SE_train_set)\n"
   ]
  },
  {
   "cell_type": "code",
   "execution_count": 19,
   "metadata": {},
   "outputs": [
    {
     "data": {
      "text/plain": [
       "array([[ 0.8284662 ,  0.56992695,  1.27338126, ...,  0.84648661,\n",
       "         0.89069909,  1.16352612],\n",
       "       [ 0.83113067,  0.74515372,  1.583233  , ...,  0.69974692,\n",
       "         1.04011778,  0.99358978],\n",
       "       [ 1.80166256,  2.01447935, -0.07153077, ...,  1.97271374,\n",
       "         1.70538672,  1.24402228],\n",
       "       ...,\n",
       "       [-0.59102828, -0.4515169 , -0.73010454, ..., -0.52369525,\n",
       "        -0.62839093, -0.59844541],\n",
       "       [ 0.63062957,  0.5058196 ,  0.65923068, ...,  0.64655378,\n",
       "         0.72349246,  0.74762929],\n",
       "       [ 0.90107291,  0.70241549,  1.46440097, ...,  1.28853993,\n",
       "         1.64490772,  1.32899045]])"
      ]
     },
     "execution_count": 19,
     "metadata": {},
     "output_type": "execute_result"
    }
   ],
   "source": [
    "SE_train_set_Scaler"
   ]
  },
  {
   "cell_type": "code",
   "execution_count": 20,
   "metadata": {},
   "outputs": [],
   "source": [
    "X_train = SE_train_set_Scaler\n",
    "y_train = SE_train_set_labels.to_numpy()"
   ]
  },
  {
   "cell_type": "code",
   "execution_count": 21,
   "metadata": {},
   "outputs": [
    {
     "data": {
      "text/plain": [
       "array([[ 0.8284662 ,  0.56992695,  1.27338126, ...,  0.84648661,\n",
       "         0.89069909,  1.16352612],\n",
       "       [ 0.83113067,  0.74515372,  1.583233  , ...,  0.69974692,\n",
       "         1.04011778,  0.99358978],\n",
       "       [ 1.80166256,  2.01447935, -0.07153077, ...,  1.97271374,\n",
       "         1.70538672,  1.24402228],\n",
       "       ...,\n",
       "       [-0.59102828, -0.4515169 , -0.73010454, ..., -0.52369525,\n",
       "        -0.62839093, -0.59844541],\n",
       "       [ 0.63062957,  0.5058196 ,  0.65923068, ...,  0.64655378,\n",
       "         0.72349246,  0.74762929],\n",
       "       [ 0.90107291,  0.70241549,  1.46440097, ...,  1.28853993,\n",
       "         1.64490772,  1.32899045]])"
      ]
     },
     "execution_count": 21,
     "metadata": {},
     "output_type": "execute_result"
    }
   ],
   "source": [
    "X_train"
   ]
  },
  {
   "cell_type": "code",
   "execution_count": 22,
   "metadata": {},
   "outputs": [
    {
     "data": {
      "text/plain": [
       "array([0, 0, 1, 0, 0, 2, 2, 2, 2, 2, 2, 0, 2, 2, 2, 2, 2, 2, 0, 2, 2, 2,\n",
       "       2, 0, 2, 0, 2, 2, 2, 0, 2, 2, 2, 2, 2, 2, 2, 2, 2, 2, 2, 1, 2, 0,\n",
       "       2, 2, 2, 2, 2, 2, 2, 0, 2, 2, 2, 0, 0, 2, 0, 2, 2, 2, 0, 2, 2, 2,\n",
       "       2, 2, 2, 2, 2, 2, 2, 0, 0, 2, 0, 0, 2, 0, 0, 2, 2, 2, 2, 2, 0, 2,\n",
       "       0, 2, 2, 2, 2, 2, 2, 2, 0, 2, 0, 2, 2, 2, 2, 2, 2, 1, 2, 2, 2, 2,\n",
       "       2, 2, 0, 0, 0, 2, 2, 0, 2, 2, 0, 0, 0, 0, 2, 2, 2, 0, 2, 2, 2, 2,\n",
       "       2, 2, 2, 2, 2, 2, 2, 2, 0, 2, 2, 2, 2, 0, 2, 2, 2, 2, 2, 2, 2, 2,\n",
       "       0, 2, 2, 2, 2, 2, 2, 1, 2, 2, 2, 0, 2, 0, 2, 0, 2, 2, 2, 2, 2, 2,\n",
       "       0, 1, 2, 0, 2, 2, 0, 2, 2, 2, 2, 2, 2, 2, 2, 2, 2, 2, 2, 2, 2, 2,\n",
       "       2, 2, 2, 2, 2, 2, 2, 2, 2, 2, 0, 1, 2, 2, 2, 2, 0, 2, 2, 2, 2, 2,\n",
       "       2, 2, 2, 0, 2, 2, 2, 0, 2, 2, 2, 2, 2, 2, 2, 2, 2, 2, 2, 2, 0, 2,\n",
       "       2, 2, 2, 2, 1, 2, 2, 2, 2, 2, 2, 2, 2, 2, 2, 2, 2, 2, 2, 2, 0, 2,\n",
       "       2, 0, 2, 2, 0, 2, 2, 2, 2, 2, 2, 2, 2, 1, 0, 2, 2, 2, 0, 1, 2, 2,\n",
       "       2, 2, 2, 2, 2, 0, 2, 0, 2, 2, 2, 0, 0, 2, 0, 2, 2, 2, 0, 1])"
      ]
     },
     "execution_count": 22,
     "metadata": {},
     "output_type": "execute_result"
    }
   ],
   "source": [
    "y_train"
   ]
  },
  {
   "cell_type": "code",
   "execution_count": 23,
   "metadata": {},
   "outputs": [],
   "source": [
    "SE_test_set = strat_test_set.drop([\"Cód.\",\"Bairro\",\"pred\"], axis=1) \n",
    "SE_test_set_Scaler = scaler.fit_transform(SE_test_set)\n",
    "SE_test_set_labels = strat_test_set[\"pred\"].copy()"
   ]
  },
  {
   "cell_type": "code",
   "execution_count": 24,
   "metadata": {},
   "outputs": [],
   "source": [
    "X_test = SE_test_set_Scaler\n",
    "y_test = SE_test_set_labels.to_numpy()"
   ]
  },
  {
   "cell_type": "code",
   "execution_count": 25,
   "metadata": {},
   "outputs": [
    {
     "data": {
      "text/plain": [
       "array([[ 3.09790879,  3.08884476, -0.85743424, ...,  3.13857185,\n",
       "         2.54242495,  1.99697568],\n",
       "       [-0.775918  , -0.68945671, -0.94150012, ..., -0.70185099,\n",
       "        -0.71619884, -0.66368766],\n",
       "       [ 0.09571291, -0.01764642,  0.23218897, ...,  0.14801293,\n",
       "         0.33439571,  0.25522276],\n",
       "       ...,\n",
       "       [-0.0259655 , -0.04795365,  0.04304073, ...,  0.17206569,\n",
       "        -0.08584211, -0.07474962],\n",
       "       [-0.42758375, -0.35607716, -0.23179005, ..., -0.43125753,\n",
       "        -0.40636248, -0.47990557],\n",
       "       [-0.37032333, -0.44194765, -0.11700779, ..., -0.35308608,\n",
       "        -0.36718777, -0.3796608 ]])"
      ]
     },
     "execution_count": 25,
     "metadata": {},
     "output_type": "execute_result"
    }
   ],
   "source": [
    "X_test"
   ]
  },
  {
   "cell_type": "code",
   "execution_count": 26,
   "metadata": {},
   "outputs": [
    {
     "data": {
      "text/plain": [
       "array([0, 2, 0, 2, 2, 2, 0, 2, 1, 2, 2, 2, 2, 0, 2, 2, 2, 2, 0, 2, 2, 2,\n",
       "       2, 2, 2, 2, 2, 2, 2, 2, 0, 2, 0, 2, 2, 2, 2, 0, 2, 2, 2, 0, 2, 0,\n",
       "       2, 2, 2, 1, 0, 2, 0, 2, 2, 2, 2, 2, 2, 2, 2, 2, 2, 2, 2, 2, 2, 0,\n",
       "       0, 0, 2, 2, 2, 2, 2, 2, 2, 2, 2])"
      ]
     },
     "execution_count": 26,
     "metadata": {},
     "output_type": "execute_result"
    }
   ],
   "source": [
    "y_test"
   ]
  },
  {
   "cell_type": "markdown",
   "metadata": {},
   "source": [
    "# Classificação Multiclasse\n",
    "\n",
    "Enquanto classificadores binários se distinguem entre duas classes os classificadores multiclasses (também chamados classificadores multinomiais) podem distinguir entre mais de duas classes.\n",
    "\n",
    "Alguns algoritmos (como os classificadores de Floresta Aleatória ou classificadores Naive-Bayes) são capazes de lidar diretamente com múltiplas classes. Outros (como os classificadores Máquinas de Vetores de Suporte ou classificadores Lineares) são estritamente binários. Entretanto, existem várias estratégias que você pode utilizar para realizar a classificação multiclasse com classificadores binários múltiplos."
   ]
  },
  {
   "cell_type": "markdown",
   "metadata": {},
   "source": [
    "## Procedimento para rodar testes"
   ]
  },
  {
   "cell_type": "code",
   "execution_count": 27,
   "metadata": {},
   "outputs": [],
   "source": [
    "from sklearn.model_selection import cross_val_score\n",
    "from sklearn.model_selection import cross_val_predict\n",
    "from sklearn.metrics import confusion_matrix\n",
    "from sklearn.metrics import f1_score\n",
    "\n",
    "\n",
    "from sklearn.metrics import cohen_kappa_score\n",
    "from sklearn.metrics import balanced_accuracy_score\n",
    "\n",
    "def Run_Model(model, X_train, y_train, X_test, y_test):\n",
    "    \n",
    "    model.fit(X_train, y_train)\n",
    "    model.predict(X_test)\n",
    "    cross_val_scr = cross_val_score(model, X_train, y_train, cv=3, scoring=\"accuracy\")\n",
    "    \n",
    "    y_train_pred = cross_val_predict(model, X_train, y_train, cv=3)\n",
    "    \n",
    "    scores = cross_val_score(model, X_train, y_train, scoring=\"neg_mean_squared_error\", cv=10)\n",
    "    \n",
    "    tree_rmse_scores = np.sqrt(-scores)\n",
    "    \n",
    "    f1_scr_macro = f1_score(y_train, y_train_pred, average=\"macro\")\n",
    "    f1_scr_weighted = f1_score(y_train, y_train_pred, average=\"weighted\") #F-Mesure\n",
    "    conf_mx = confusion_matrix(y_train, y_train_pred)\n",
    "    print(confusion_matrix(y_train, y_train_pred))\n",
    "    \n",
    "    print(cohen_kappa_score(y_train, y_train_pred)) #1 means perfect agreement\n",
    "    \n",
    "    return cross_val_scr,f1_scr_macro, f1_scr_weighted,conf_mx, tree_rmse_scores\n",
    "\n",
    "\n",
    "def display_scores(scores):\n",
    "    print(\"Scores:\", scores)\n",
    "    print(\"Mean:\", scores.mean())\n",
    "    print(\"Standard deviation:\", scores.std())"
   ]
  },
  {
   "cell_type": "markdown",
   "metadata": {},
   "source": [
    "## Stochastic Gradient Descent (SGD) classifier"
   ]
  },
  {
   "cell_type": "code",
   "execution_count": 28,
   "metadata": {},
   "outputs": [
    {
     "name": "stdout",
     "output_type": "stream",
     "text": [
      "[[ 41   2  16]\n",
      " [  3   7   0]\n",
      " [ 23   0 214]]\n",
      "0.6162243821794031\n",
      "[0.89215686 0.85294118 0.82352941]\n",
      "0.7680413262516271\n",
      "0.8593887425781052\n",
      "Scores: [0.62217102 0.47519096 0.71842121 0.87988269 0.80321933 0.53881591\n",
      " 0.63245553 0.96609178 0.73029674 0.83666003]\n",
      "Mean: 0.7203205198355057\n",
      "Standard deviation: 0.14722765743062272\n"
     ]
    },
    {
     "data": {
      "image/png": "[encoded data removed]",
      "text/plain": [
       "<Figure size 480x480 with 1 Axes>"
      ]
     },
     "metadata": {},
     "output_type": "display_data"
    }
   ],
   "source": [
    "from sklearn.linear_model import SGDClassifier\n",
    "\n",
    "sgd_clf = SGDClassifier(max_iter=1000, tol=1e-3, random_state=42)\n",
    "cross_val_scr,f1_scr_macro, f1_scr_weighted,conf_mx,tree_rmse_scores = Run_Model(sgd_clf, X_train, y_train, X_test, y_test)\n",
    "print(cross_val_scr)\n",
    "print(f1_scr_macro)\n",
    "print(f1_scr_weighted)\n",
    "\n",
    "display_scores(tree_rmse_scores)\n",
    "\n",
    "plt.matshow(conf_mx, cmap=plt.cm.gray)\n",
    "plt.show()"
   ]
  },
  {
   "cell_type": "markdown",
   "metadata": {},
   "source": [
    "## k-Nearest Neighbors Classifier"
   ]
  },
  {
   "cell_type": "code",
   "execution_count": 29,
   "metadata": {},
   "outputs": [
    {
     "name": "stdout",
     "output_type": "stream",
     "text": [
      "[[ 41   2  16]\n",
      " [  3   7   0]\n",
      " [ 23   0 214]]\n",
      "0.6162243821794031\n",
      "[0.89215686 0.85294118 0.82352941]\n",
      "0.7680413262516271\n",
      "0.8593887425781052\n",
      "Scores: [0.62217102 0.47519096 0.71842121 0.87988269 0.80321933 0.53881591\n",
      " 0.63245553 0.96609178 0.73029674 0.83666003]\n",
      "Mean: 0.7203205198355057\n",
      "Standard deviation: 0.14722765743062272\n"
     ]
    },
    {
     "data": {
      "image/png": "[encoded data removed]",
      "text/plain": [
       "<Figure size 480x480 with 1 Axes>"
      ]
     },
     "metadata": {},
     "output_type": "display_data"
    }
   ],
   "source": [
    "from sklearn.neighbors import KNeighborsClassifier\n",
    "\n",
    "knn_clf = KNeighborsClassifier()\n",
    "cross_val_scr,f1_scr_macro, f1_scr_weighted,conf_mx,tree_rmse_scores = Run_Model(sgd_clf, X_train, y_train, X_test, y_test)\n",
    "print(cross_val_scr)\n",
    "print(f1_scr_macro)\n",
    "print(f1_scr_weighted)\n",
    "\n",
    "display_scores(tree_rmse_scores)\n",
    "\n",
    "plt.matshow(conf_mx, cmap=plt.cm.gray)\n",
    "plt.show()"
   ]
  },
  {
   "cell_type": "markdown",
   "metadata": {},
   "source": [
    "\n",
    "## Random Forest Classifier"
   ]
  },
  {
   "cell_type": "code",
   "execution_count": 30,
   "metadata": {},
   "outputs": [
    {
     "name": "stdout",
     "output_type": "stream",
     "text": [
      "[[ 43   1  15]\n",
      " [  4   6   0]\n",
      " [ 12   0 225]]\n",
      "0.7051046529137177\n",
      "[0.88235294 0.91176471 0.89215686]\n",
      "0.792697379559435\n",
      "0.8942605529078077\n",
      "Scores: [0.50800051 0.43994135 0.95038193 0.50800051 0.50800051 0.53881591\n",
      " 0.51639778 0.81649658 0.51639778 0.65828059]\n",
      "Mean: 0.5960713430290407\n",
      "Standard deviation: 0.15543911866371832\n"
     ]
    },
    {
     "data": {
      "image/png": "[encoded data removed]",
      "text/plain": [
       "<Figure size 480x480 with 1 Axes>"
      ]
     },
     "metadata": {},
     "output_type": "display_data"
    }
   ],
   "source": [
    "from sklearn.ensemble import RandomForestClassifier\n",
    "\n",
    "forest_clf = RandomForestClassifier(random_state=42)\n",
    "#forest_clf = RandomForestClassifier(n_estimators=100, random_state=42)\n",
    "\n",
    "cross_val_scr,f1_scr_macro, f1_scr_weighted,conf_mx,tree_rmse_scores = Run_Model(forest_clf, X_train, y_train, X_test, y_test)\n",
    "print(cross_val_scr)\n",
    "print(f1_scr_macro)\n",
    "print(f1_scr_weighted)\n",
    "\n",
    "display_scores(tree_rmse_scores)\n",
    "\n",
    "plt.matshow(conf_mx, cmap=plt.cm.gray)\n",
    "plt.show()"
   ]
  },
  {
   "cell_type": "markdown",
   "metadata": {},
   "source": [
    "\n",
    "## Suport Vector Machine"
   ]
  },
  {
   "cell_type": "code",
   "execution_count": 31,
   "metadata": {},
   "outputs": [
    {
     "name": "stdout",
     "output_type": "stream",
     "text": [
      "[[ 39   1  19]\n",
      " [  4   6   0]\n",
      " [ 16   0 221]]\n",
      "0.6313808161421472\n",
      "[0.8627451  0.89215686 0.85294118]\n",
      "0.7645080133464038\n",
      "0.8681989752369069\n",
      "Scores: [0.64757613 0.67202151 0.87988269 0.50800051 0.71842121 0.64757613\n",
      " 0.63245553 0.91287093 0.51639778 0.65828059]\n",
      "Mean: 0.6793482992181353\n",
      "Standard deviation: 0.12526048628636127\n"
     ]
    },
    {
     "data": {
      "image/png": "[encoded data removed]",
      "text/plain": [
       "<Figure size 480x480 with 1 Axes>"
      ]
     },
     "metadata": {},
     "output_type": "display_data"
    }
   ],
   "source": [
    "from sklearn.svm import LinearSVC\n",
    "from sklearn.svm import SVC\n",
    "\n",
    "#svm_clf = LinearSVC(C=1, loss=\"hinge\")\n",
    "#svm_clf = SVC()\n",
    "\n",
    "#linear = svm.SVC(kernel='linear', C=1, decision_function_shape='ovo').fit(X_train, y_train)\n",
    "#rbf = svm.SVC(kernel='rbf', gamma=1, C=1, decision_function_shape='ovo').fit(X_train, y_train)\n",
    "#poly = svm.SVC(kernel='poly', degree=3, C=1, decision_function_shape='ovo').fit(X_train, y_train)\n",
    "#sig = svm.SVC(kernel='sigmoid', C=1, decision_function_shape='ovo').fit(X_train, y_train)\n",
    "\n",
    "svm_clf = SVC(kernel='linear', C=1, decision_function_shape='ovo')\n",
    "\n",
    "cross_val_scr,f1_scr_macro, f1_scr_weighted,conf_mx,tree_rmse_scores = Run_Model(svm_clf, X_train, y_train, X_test, y_test)\n",
    "print(cross_val_scr)\n",
    "print(f1_scr_macro)\n",
    "print(f1_scr_weighted)\n",
    "\n",
    "display_scores(tree_rmse_scores)\n",
    "\n",
    "plt.matshow(conf_mx, cmap=plt.cm.gray)\n",
    "plt.show()"
   ]
  },
  {
   "cell_type": "markdown",
   "metadata": {},
   "source": [
    "# Ajustes de hiperParâmetros\n"
   ]
  },
  {
   "cell_type": "markdown",
   "metadata": {},
   "source": [
    "### Grid Search"
   ]
  },
  {
   "cell_type": "code",
   "execution_count": 32,
   "metadata": {},
   "outputs": [
    {
     "data": {
      "text/html": [
       "<style>#sk-container-id-1 {color: black;background-color: white;}#sk-container-id-1 pre{padding: 0;}#sk-container-id-1 div.sk-toggleable {background-color: white;}#sk-container-id-1 label.sk-toggleable__label {cursor: pointer;display: block;width: 100%;margin-bottom: 0;padding: 0.3em;box-sizing: border-box;text-align: center;}#sk-container-id-1 label.sk-toggleable__label-arrow:before {content: \"▸\";float: left;margin-right: 0.25em;color: #696969;}#sk-container-id-1 label.sk-toggleable__label-arrow:hover:before {color: black;}#sk-container-id-1 div.sk-estimator:hover label.sk-toggleable__label-arrow:before {color: black;}#sk-container-id-1 div.sk-toggleable__content {max-height: 0;max-width: 0;overflow: hidden;text-align: left;background-color: #f0f8ff;}#sk-container-id-1 div.sk-toggleable__content pre {margin: 0.2em;color: black;border-radius: 0.25em;background-color: #f0f8ff;}#sk-container-id-1 input.sk-toggleable__control:checked~div.sk-toggleable__content {max-height: 200px;max-width: 100%;overflow: auto;}#sk-container-id-1 input.sk-toggleable__control:checked~label.sk-toggleable__label-arrow:before {content: \"▾\";}#sk-container-id-1 div.sk-estimator input.sk-toggleable__control:checked~label.sk-toggleable__label {background-color: #d4ebff;}#sk-container-id-1 div.sk-label input.sk-toggleable__control:checked~label.sk-toggleable__label {background-color: #d4ebff;}#sk-container-id-1 input.sk-hidden--visually {border: 0;clip: rect(1px 1px 1px 1px);clip: rect(1px, 1px, 1px, 1px);height: 1px;margin: -1px;overflow: hidden;padding: 0;position: absolute;width: 1px;}#sk-container-id-1 div.sk-estimator {font-family: monospace;background-color: #f0f8ff;border: 1px dotted black;border-radius: 0.25em;box-sizing: border-box;margin-bottom: 0.5em;}#sk-container-id-1 div.sk-estimator:hover {background-color: #d4ebff;}#sk-container-id-1 div.sk-parallel-item::after {content: \"\";width: 100%;border-bottom: 1px solid gray;flex-grow: 1;}#sk-container-id-1 div.sk-label:hover label.sk-toggleable__label {background-color: #d4ebff;}#sk-container-id-1 div.sk-serial::before {content: \"\";position: absolute;border-left: 1px solid gray;box-sizing: border-box;top: 0;bottom: 0;left: 50%;z-index: 0;}#sk-container-id-1 div.sk-serial {display: flex;flex-direction: column;align-items: center;background-color: white;padding-right: 0.2em;padding-left: 0.2em;position: relative;}#sk-container-id-1 div.sk-item {position: relative;z-index: 1;}#sk-container-id-1 div.sk-parallel {display: flex;align-items: stretch;justify-content: center;background-color: white;position: relative;}#sk-container-id-1 div.sk-item::before, #sk-container-id-1 div.sk-parallel-item::before {content: \"\";position: absolute;border-left: 1px solid gray;box-sizing: border-box;top: 0;bottom: 0;left: 50%;z-index: -1;}#sk-container-id-1 div.sk-parallel-item {display: flex;flex-direction: column;z-index: 1;position: relative;background-color: white;}#sk-container-id-1 div.sk-parallel-item:first-child::after {align-self: flex-end;width: 50%;}#sk-container-id-1 div.sk-parallel-item:last-child::after {align-self: flex-start;width: 50%;}#sk-container-id-1 div.sk-parallel-item:only-child::after {width: 0;}#sk-container-id-1 div.sk-dashed-wrapped {border: 1px dashed gray;margin: 0 0.4em 0.5em 0.4em;box-sizing: border-box;padding-bottom: 0.4em;background-color: white;}#sk-container-id-1 div.sk-label label {font-family: monospace;font-weight: bold;display: inline-block;line-height: 1.2em;}#sk-container-id-1 div.sk-label-container {text-align: center;}#sk-container-id-1 div.sk-container {/* jupyter's `normalize.less` sets `[hidden] { display: none; }` but bootstrap.min.css set `[hidden] { display: none !important; }` so we also need the `!important` here to be able to override the default hidden behavior on the sphinx rendered scikit-learn.org. See: https://github.com/scikit-learn/scikit-learn/issues/21755 */display: inline-block !important;position: relative;}#sk-container-id-1 div.sk-text-repr-fallback {display: none;}</style><div id=\"sk-container-id-1\" class=\"sk-top-container\"><div class=\"sk-text-repr-fallback\"><pre>GridSearchCV(cv=5, estimator=RandomForestClassifier(random_state=42),\n",
       "             param_grid=[{&#x27;max_features&#x27;: [10, 12, 20],\n",
       "                          &#x27;n_estimators&#x27;: [30, 100]},\n",
       "                         {&#x27;bootstrap&#x27;: [False], &#x27;max_features&#x27;: [2, 3, 4],\n",
       "                          &#x27;n_estimators&#x27;: [3, 10]}],\n",
       "             return_train_score=True, scoring=&#x27;neg_mean_squared_error&#x27;)</pre><b>In a Jupyter environment, please rerun this cell to show the HTML representation or trust the notebook. <br />On GitHub, the HTML representation is unable to render, please try loading this page with nbviewer.org.</b></div><div class=\"sk-container\" hidden><div class=\"sk-item sk-dashed-wrapped\"><div class=\"sk-label-container\"><div class=\"sk-label sk-toggleable\"><input class=\"sk-toggleable__control sk-hidden--visually\" id=\"sk-estimator-id-1\" type=\"checkbox\" ><label for=\"sk-estimator-id-1\" class=\"sk-toggleable__label sk-toggleable__label-arrow\">GridSearchCV</label><div class=\"sk-toggleable__content\"><pre>GridSearchCV(cv=5, estimator=RandomForestClassifier(random_state=42),\n",
       "             param_grid=[{&#x27;max_features&#x27;: [10, 12, 20],\n",
       "                          &#x27;n_estimators&#x27;: [30, 100]},\n",
       "                         {&#x27;bootstrap&#x27;: [False], &#x27;max_features&#x27;: [2, 3, 4],\n",
       "                          &#x27;n_estimators&#x27;: [3, 10]}],\n",
       "             return_train_score=True, scoring=&#x27;neg_mean_squared_error&#x27;)</pre></div></div></div><div class=\"sk-parallel\"><div class=\"sk-parallel-item\"><div class=\"sk-item\"><div class=\"sk-label-container\"><div class=\"sk-label sk-toggleable\"><input class=\"sk-toggleable__control sk-hidden--visually\" id=\"sk-estimator-id-2\" type=\"checkbox\" ><label for=\"sk-estimator-id-2\" class=\"sk-toggleable__label sk-toggleable__label-arrow\">estimator: RandomForestClassifier</label><div class=\"sk-toggleable__content\"><pre>RandomForestClassifier(random_state=42)</pre></div></div></div><div class=\"sk-serial\"><div class=\"sk-item\"><div class=\"sk-estimator sk-toggleable\"><input class=\"sk-toggleable__control sk-hidden--visually\" id=\"sk-estimator-id-3\" type=\"checkbox\" ><label for=\"sk-estimator-id-3\" class=\"sk-toggleable__label sk-toggleable__label-arrow\">RandomForestClassifier</label><div class=\"sk-toggleable__content\"><pre>RandomForestClassifier(random_state=42)</pre></div></div></div></div></div></div></div></div></div></div>"
      ],
      "text/plain": [
       "GridSearchCV(cv=5, estimator=RandomForestClassifier(random_state=42),\n",
       "             param_grid=[{'max_features': [10, 12, 20],\n",
       "                          'n_estimators': [30, 100]},\n",
       "                         {'bootstrap': [False], 'max_features': [2, 3, 4],\n",
       "                          'n_estimators': [3, 10]}],\n",
       "             return_train_score=True, scoring='neg_mean_squared_error')"
      ]
     },
     "execution_count": 32,
     "metadata": {},
     "output_type": "execute_result"
    }
   ],
   "source": [
    "from sklearn.model_selection import GridSearchCV\n",
    "\n",
    "from sklearn.ensemble import RandomForestClassifier\n",
    "\n",
    "\n",
    "param_grid = [\n",
    "{'n_estimators': [30, 100], 'max_features': [10, 12, 20]},\n",
    "{'bootstrap': [False], 'n_estimators': [3, 10], 'max_features': [2, 3, 4]},\n",
    "]\n",
    "\n",
    "\n",
    "forest_clf = RandomForestClassifier(random_state=42)\n",
    "\n",
    "grid_search = GridSearchCV(forest_clf, param_grid, cv=5, scoring='neg_mean_squared_error', return_train_score=True)\n",
    "\n",
    "grid_search.fit(X_train, y_train)"
   ]
  },
  {
   "cell_type": "code",
   "execution_count": 33,
   "metadata": {},
   "outputs": [
    {
     "data": {
      "text/plain": [
       "{'max_features': 10, 'n_estimators': 30}"
      ]
     },
     "execution_count": 33,
     "metadata": {},
     "output_type": "execute_result"
    }
   ],
   "source": [
    "grid_search.best_params_"
   ]
  },
  {
   "cell_type": "code",
   "execution_count": 34,
   "metadata": {},
   "outputs": [
    {
     "name": "stdout",
     "output_type": "stream",
     "text": [
      "0.5861074526571775 {'max_features': 10, 'n_estimators': 30}\n",
      "0.5942612921452541 {'max_features': 10, 'n_estimators': 100}\n",
      "0.6053699412197608 {'max_features': 12, 'n_estimators': 30}\n",
      "0.5944392413309001 {'max_features': 12, 'n_estimators': 100}\n",
      "0.6292701823968209 {'max_features': 20, 'n_estimators': 30}\n",
      "0.5971906732013204 {'max_features': 20, 'n_estimators': 100}\n",
      "0.7858814988924397 {'bootstrap': False, 'max_features': 2, 'n_estimators': 3}\n",
      "0.6694591611758588 {'bootstrap': False, 'max_features': 2, 'n_estimators': 10}\n",
      "0.74138806742869 {'bootstrap': False, 'max_features': 3, 'n_estimators': 3}\n",
      "0.6161067438608162 {'bootstrap': False, 'max_features': 3, 'n_estimators': 10}\n",
      "0.7099057370336533 {'bootstrap': False, 'max_features': 4, 'n_estimators': 3}\n",
      "0.679144638871329 {'bootstrap': False, 'max_features': 4, 'n_estimators': 10}\n"
     ]
    }
   ],
   "source": [
    "cvres = grid_search.cv_results_\n",
    "for mean_score, params in zip(cvres[\"mean_test_score\"], cvres[\"params\"]):\n",
    "    print(np.sqrt(-mean_score), params)"
   ]
  },
  {
   "cell_type": "markdown",
   "metadata": {},
   "source": [
    "### Dividindo treinamento em 70% + 10% (20% já ficou no  conjunto de teste), do conjunto original\n",
    "#### Os 10% do conjunto original é equivalentemente  a 12,5% do conjunto de treinamento.\n"
   ]
  },
  {
   "cell_type": "code",
   "execution_count": 35,
   "metadata": {},
   "outputs": [],
   "source": [
    "strat_train_set, strat_test_set = split_stratified_train_test_by_id(Socio_Economica_Cluster3, 0.2, \"pred\", 0)"
   ]
  },
  {
   "cell_type": "code",
   "execution_count": 36,
   "metadata": {},
   "outputs": [],
   "source": [
    "strat_train_tune_set, strat_tune_set = split_stratified_train_test_by_id(strat_train_set, 0.125, \"pred\", 0)"
   ]
  },
  {
   "cell_type": "code",
   "execution_count": 37,
   "metadata": {},
   "outputs": [
    {
     "name": "stdout",
     "output_type": "stream",
     "text": [
      "2    297\n",
      "0     74\n",
      "1     12\n",
      "Name: pred, dtype: int64\n"
     ]
    }
   ],
   "source": [
    "print(Socio_Economica_Cluster3[\"pred\"].value_counts())"
   ]
  },
  {
   "cell_type": "code",
   "execution_count": 38,
   "metadata": {},
   "outputs": [
    {
     "name": "stdout",
     "output_type": "stream",
     "text": [
      "2    237\n",
      "0     59\n",
      "1     10\n",
      "Name: pred, dtype: int64\n"
     ]
    }
   ],
   "source": [
    "print(strat_train_set[\"pred\"].value_counts())"
   ]
  },
  {
   "cell_type": "code",
   "execution_count": 39,
   "metadata": {},
   "outputs": [
    {
     "name": "stdout",
     "output_type": "stream",
     "text": [
      "2    60\n",
      "0    15\n",
      "1     2\n",
      "Name: pred, dtype: int64\n"
     ]
    }
   ],
   "source": [
    "print(strat_test_set[\"pred\"].value_counts())"
   ]
  },
  {
   "cell_type": "code",
   "execution_count": 40,
   "metadata": {},
   "outputs": [
    {
     "name": "stdout",
     "output_type": "stream",
     "text": [
      "2    207\n",
      "0     51\n",
      "1      9\n",
      "Name: pred, dtype: int64\n"
     ]
    }
   ],
   "source": [
    "print(strat_train_tune_set[\"pred\"].value_counts())"
   ]
  },
  {
   "cell_type": "code",
   "execution_count": 41,
   "metadata": {},
   "outputs": [
    {
     "name": "stdout",
     "output_type": "stream",
     "text": [
      "2    30\n",
      "0     8\n",
      "1     1\n",
      "Name: pred, dtype: int64\n"
     ]
    }
   ],
   "source": [
    "print(strat_tune_set[\"pred\"].value_counts())"
   ]
  },
  {
   "cell_type": "code",
   "execution_count": 42,
   "metadata": {},
   "outputs": [],
   "source": [
    "from sklearn.preprocessing import StandardScaler\n",
    "scaler = StandardScaler()\n",
    "SE_train_set = strat_train_set.drop([\"Cód.\",\"Bairro\",\"pred\"], axis=1) # drop labels for training set\n",
    "SE_train_set_labels = strat_train_set[\"pred\"].copy()\n",
    "SE_train_set_Scaler = scaler.fit_transform(SE_train_set)\n",
    "X_train = SE_train_set_Scaler\n",
    "y_train = SE_train_set_labels.to_numpy()"
   ]
  },
  {
   "cell_type": "code",
   "execution_count": 43,
   "metadata": {},
   "outputs": [],
   "source": [
    "strat_tune_set = strat_tune_set.drop([\"Cód.\",\"Bairro\",\"pred\"], axis=1) \n",
    "strat_tune_set_Scaler = scaler.fit_transform(SE_test_set)\n",
    "strat_tune_set_labels = strat_test_set[\"pred\"].copy()\n",
    "X_tune = strat_tune_set_Scaler\n",
    "y_tune = strat_tune_set_labels.to_numpy()"
   ]
  },
  {
   "cell_type": "code",
   "execution_count": 44,
   "metadata": {},
   "outputs": [],
   "source": [
    "SE_test_set = strat_test_set.drop([\"Cód.\",\"Bairro\",\"pred\"], axis=1) \n",
    "SE_test_set_Scaler = scaler.fit_transform(SE_test_set)\n",
    "SE_test_set_labels = strat_test_set[\"pred\"].copy()\n",
    "X_test = SE_test_set_Scaler\n",
    "y_test = SE_test_set_labels.to_numpy()"
   ]
  },
  {
   "cell_type": "code",
   "execution_count": 45,
   "metadata": {},
   "outputs": [
    {
     "name": "stdout",
     "output_type": "stream",
     "text": [
      "[[ 0.8284662   0.56992695  1.27338126 ...  0.84648661  0.89069909\n",
      "   1.16352612]\n",
      " [ 0.83113067  0.74515372  1.583233   ...  0.69974692  1.04011778\n",
      "   0.99358978]\n",
      " [ 1.80166256  2.01447935 -0.07153077 ...  1.97271374  1.70538672\n",
      "   1.24402228]\n",
      " ...\n",
      " [-0.59102828 -0.4515169  -0.73010454 ... -0.52369525 -0.62839093\n",
      "  -0.59844541]\n",
      " [ 0.63062957  0.5058196   0.65923068 ...  0.64655378  0.72349246\n",
      "   0.74762929]\n",
      " [ 0.90107291  0.70241549  1.46440097 ...  1.28853993  1.64490772\n",
      "   1.32899045]]\n",
      "[0 0 1 0 0 2 2 2 2 2 2 0 2 2 2 2 2 2 0 2 2 2 2 0 2 0 2 2 2 0 2 2 2 2 2 2 2\n",
      " 2 2 2 2 1 2 0 2 2 2 2 2 2 2 0 2 2 2 0 0 2 0 2 2 2 0 2 2 2 2 2 2 2 2 2 2 0\n",
      " 0 2 0 0 2 0 0 2 2 2 2 2 0 2 0 2 2 2 2 2 2 2 0 2 0 2 2 2 2 2 2 1 2 2 2 2 2\n",
      " 2 0 0 0 2 2 0 2 2 0 0 0 0 2 2 2 0 2 2 2 2 2 2 2 2 2 2 2 2 0 2 2 2 2 0 2 2\n",
      " 2 2 2 2 2 2 0 2 2 2 2 2 2 1 2 2 2 0 2 0 2 0 2 2 2 2 2 2 0 1 2 0 2 2 0 2 2\n",
      " 2 2 2 2 2 2 2 2 2 2 2 2 2 2 2 2 2 2 2 2 2 2 2 0 1 2 2 2 2 0 2 2 2 2 2 2 2\n",
      " 2 0 2 2 2 0 2 2 2 2 2 2 2 2 2 2 2 2 0 2 2 2 2 2 1 2 2 2 2 2 2 2 2 2 2 2 2\n",
      " 2 2 2 0 2 2 0 2 2 0 2 2 2 2 2 2 2 2 1 0 2 2 2 0 1 2 2 2 2 2 2 2 0 2 0 2 2\n",
      " 2 0 0 2 0 2 2 2 0 1]\n"
     ]
    }
   ],
   "source": [
    "print(X_train)\n",
    "print(y_train)"
   ]
  },
  {
   "cell_type": "code",
   "execution_count": 46,
   "metadata": {},
   "outputs": [
    {
     "name": "stdout",
     "output_type": "stream",
     "text": [
      "[[ 3.09790879  3.08884476 -0.85743424 ...  3.13857185  2.54242495\n",
      "   1.99697568]\n",
      " [-0.775918   -0.68945671 -0.94150012 ... -0.70185099 -0.71619884\n",
      "  -0.66368766]\n",
      " [ 0.09571291 -0.01764642  0.23218897 ...  0.14801293  0.33439571\n",
      "   0.25522276]\n",
      " ...\n",
      " [-0.0259655  -0.04795365  0.04304073 ...  0.17206569 -0.08584211\n",
      "  -0.07474962]\n",
      " [-0.42758375 -0.35607716 -0.23179005 ... -0.43125753 -0.40636248\n",
      "  -0.47990557]\n",
      " [-0.37032333 -0.44194765 -0.11700779 ... -0.35308608 -0.36718777\n",
      "  -0.3796608 ]]\n",
      "[0 2 0 2 2 2 0 2 1 2 2 2 2 0 2 2 2 2 0 2 2 2 2 2 2 2 2 2 2 2 0 2 0 2 2 2 2\n",
      " 0 2 2 2 0 2 0 2 2 2 1 0 2 0 2 2 2 2 2 2 2 2 2 2 2 2 2 2 0 0 0 2 2 2 2 2 2\n",
      " 2 2 2]\n"
     ]
    }
   ],
   "source": [
    "print(X_tune)\n",
    "print(y_tune)"
   ]
  },
  {
   "cell_type": "code",
   "execution_count": 47,
   "metadata": {},
   "outputs": [
    {
     "name": "stdout",
     "output_type": "stream",
     "text": [
      "[[ 3.09790879  3.08884476 -0.85743424 ...  3.13857185  2.54242495\n",
      "   1.99697568]\n",
      " [-0.775918   -0.68945671 -0.94150012 ... -0.70185099 -0.71619884\n",
      "  -0.66368766]\n",
      " [ 0.09571291 -0.01764642  0.23218897 ...  0.14801293  0.33439571\n",
      "   0.25522276]\n",
      " ...\n",
      " [-0.0259655  -0.04795365  0.04304073 ...  0.17206569 -0.08584211\n",
      "  -0.07474962]\n",
      " [-0.42758375 -0.35607716 -0.23179005 ... -0.43125753 -0.40636248\n",
      "  -0.47990557]\n",
      " [-0.37032333 -0.44194765 -0.11700779 ... -0.35308608 -0.36718777\n",
      "  -0.3796608 ]]\n",
      "[0 2 0 2 2 2 0 2 1 2 2 2 2 0 2 2 2 2 0 2 2 2 2 2 2 2 2 2 2 2 0 2 0 2 2 2 2\n",
      " 0 2 2 2 0 2 0 2 2 2 1 0 2 0 2 2 2 2 2 2 2 2 2 2 2 2 2 2 0 0 0 2 2 2 2 2 2\n",
      " 2 2 2]\n"
     ]
    }
   ],
   "source": [
    "print(X_test)\n",
    "print(y_test)"
   ]
  },
  {
   "cell_type": "markdown",
   "metadata": {},
   "source": [
    "## Procedimento Cross Validation para rodar testes"
   ]
  },
  {
   "cell_type": "code",
   "execution_count": 48,
   "metadata": {},
   "outputs": [],
   "source": [
    "from sklearn.model_selection import cross_val_score\n",
    "from sklearn.model_selection import cross_val_predict\n",
    "from sklearn.metrics import confusion_matrix\n",
    "\n",
    "from sklearn.metrics import f1_score\n",
    "from sklearn.metrics import cohen_kappa_score\n",
    "from sklearn.metrics import balanced_accuracy_score\n",
    "\n",
    "def PrintMetricsCV(model, X_train, y_train,test_cv):\n",
    "    \n",
    "    #model.fit(X_train, y_train)\n",
    "    #model.predict(X_test)\n",
    "    \n",
    "    #The best value is 1 and the worst value is 0 when adjusted=False.\n",
    "    cross_val_scr = cross_val_score(model, X_train, y_train, cv=test_cv, scoring=\"balanced_accuracy\")\n",
    "    \n",
    "    print(\"---\",\"balanced_accuracy\",\"---\")\n",
    "    print(\"   Scores       :\", cross_val_scr)\n",
    "    print(\"   Mean         :\"  , cross_val_scr.mean())\n",
    "    print(\"   Std deviation:\", cross_val_scr.std())\n",
    "  \n",
    "    # F1 score reaches its best value at 1 and worst score at 0\n",
    "    cross_val_scr = cross_val_score(model, X_train, y_train, cv=test_cv, scoring=\"f1_weighted\")\n",
    "    \n",
    "    print(\"---\",\"F-mesure\",\"---\")\n",
    "    print(\"   Scores       :\", cross_val_scr)\n",
    "    print(\"   Mean         :\"  , cross_val_scr.mean())\n",
    "    print(\"   Std deviation:\", cross_val_scr.std())\n",
    "\n",
    "    \n",
    "    # The kappa statistic, which is a number between -1 and 1. The maximum value means complete agreement; zero or lower means chance agreement.\n",
    "    y_train_pred = cross_val_predict(model, X_train, y_train, cv=test_cv)\n",
    "    print(\"\\n------\",\"Metrics\",\"------\")\n",
    "    print(\"   balanced acc :\",balanced_accuracy_score(y_train, y_train_pred, adjusted=False))\n",
    "    print(\"   f1 score     :\",f1_score(y_train, y_train_pred,average=\"weighted\"))\n",
    "    print(\"   Kappa        :\", cohen_kappa_score(y_train, y_train_pred))\n",
    "    \n",
    "    \n"
   ]
  },
  {
   "cell_type": "markdown",
   "metadata": {},
   "source": [
    "## Procedimento GridSearch para rodar testes"
   ]
  },
  {
   "cell_type": "code",
   "execution_count": 49,
   "metadata": {},
   "outputs": [],
   "source": [
    "from sklearn.model_selection import GridSearchCV\n",
    "\n",
    "from sklearn.metrics import f1_score\n",
    "from sklearn.metrics import cohen_kappa_score\n",
    "from sklearn.metrics import balanced_accuracy_score\n",
    "\n",
    "def PrintMetricsGS(model, param, X_train, y_train, test_cv):\n",
    "    \n",
    "    #grid_search = GridSearchCV(model, param, cv=test_cv, scoring='neg_mean_squared_error', return_train_score=True)\n",
    "    #grid_search.fit(X_train, y_train)\n",
    "    \n",
    "    #print(\"---\",\"neg_mean_squared_error\",\"---\")\n",
    "    #print(\"   Best Params    :\", grid_search.best_params_)\n",
    "    #print(\"   Best estimator :\"  , grid_search.best_estimator_)\n",
    "    \n",
    "    \n",
    "    #cvres = grid_search.cv_results_\n",
    "    #for mean_score, params in zip(cvres[\"mean_test_score\"], cvres[\"params\"]):\n",
    "    #    print(np.sqrt(-mean_score), params)\n",
    "\n",
    "        \n",
    "    grid_search = GridSearchCV(model, param, cv=test_cv, scoring='balanced_accuracy', return_train_score=True)\n",
    "    grid_search.fit(X_train, y_train)\n",
    "    \n",
    "    print(\"---\",\"balanced_accuracy\",\"---\")\n",
    "    print(\"   Best Params    :\", grid_search.best_params_)\n",
    "    print(\"   Best estimator :\"  , grid_search.best_estimator_)\n",
    "    \n",
    "    \n",
    "    cvres = grid_search.cv_results_\n",
    "    for mean_score, params in zip(cvres[\"mean_test_score\"], cvres[\"params\"]):\n",
    "        print(mean_score, params)    \n",
    "        \n",
    "    \n",
    "    #print(\"   Std deviation:\", cross_val_scr.std())\n",
    "  \n",
    "    #### F1 score reaches its best value at 1 and worst score at 0\n",
    "    #cross_val_scr = cross_val_score(model, X_train, y_train, cv=test_cv, scoring=\"f1_weighted\")\n",
    "    \n",
    "    #print(\"---\",\"F-mesure\",\"---\")\n",
    "    #print(\"   Scores       :\", cross_val_scr)\n",
    "    #print(\"   Mean         :\"  , cross_val_scr.mean())\n",
    "    #print(\"   Std deviation:\", cross_val_scr.std())\n",
    "\n",
    "    \n",
    "    # The kappa statistic, which is a number between -1 and 1. The maximum value means complete agreement; zero or lower means chance agreement.\n",
    "    #y_train_pred = cross_val_predict(model, X_train, y_train, cv=test_cv)\n",
    "    #print(\"\\n------\",\"Metrics\",\"------\")\n",
    "    #print(\"   balanced acc :\",balanced_accuracy_score(y_train, y_train_pred, adjusted=False))\n",
    "    #print(\"   f1 score     :\",f1_score(y_train, y_train_pred,average=\"weighted\"))\n",
    "    #print(\"   Kappa        :\", cohen_kappa_score(y_train, y_train_pred))\n",
    "    \n",
    "    \n"
   ]
  },
  {
   "cell_type": "markdown",
   "metadata": {},
   "source": [
    "## Procedimento RandomSearch para rodar testes"
   ]
  },
  {
   "cell_type": "code",
   "execution_count": 50,
   "metadata": {},
   "outputs": [],
   "source": [
    "from sklearn.model_selection import RandomizedSearchCV\n",
    "\n",
    "from sklearn.metrics import f1_score\n",
    "from sklearn.metrics import cohen_kappa_score\n",
    "from sklearn.metrics import balanced_accuracy_score\n",
    "\n",
    "def PrintMetricsRS(model, param, X_train, y_train, test_cv, test_iter):\n",
    "    \n",
    "    #grid_search = GridSearchCV(model, param, cv=test_cv, scoring='neg_mean_squared_error', return_train_score=True)\n",
    "    #grid_search.fit(X_train, y_train)\n",
    "    \n",
    "    #print(\"---\",\"neg_mean_squared_error\",\"---\")\n",
    "    #print(\"   Best Params    :\", grid_search.best_params_)\n",
    "    #print(\"   Best estimator :\"  , grid_search.best_estimator_)\n",
    "    \n",
    "    \n",
    "    #cvres = grid_search.cv_results_\n",
    "    #for mean_score, params in zip(cvres[\"mean_test_score\"], cvres[\"params\"]):\n",
    "    #    print(np.sqrt(-mean_score), params)\n",
    "\n",
    "        \n",
    "    rd_search = RandomizedSearchCV(model, param, n_iter = test_iter, cv=test_cv, scoring='balanced_accuracy', return_train_score=True)\n",
    "    rd_search.fit(X_train, y_train)\n",
    "    \n",
    "    print(\"---\",\"balanced_accuracy\",\"---\")\n",
    "    print(\"   Best Params    :\", rd_search.best_params_)\n",
    "    print(\"   Best estimator :\"  , rd_search.best_estimator_)\n",
    "    \n",
    "    \n",
    "    cvres = rd_search.cv_results_\n",
    "    for mean_score, params in zip(cvres[\"mean_test_score\"], cvres[\"params\"]):\n",
    "        print(mean_score, params)    \n",
    "        \n",
    "    \n",
    "    #print(\"   Std deviation:\", cross_val_scr.std())\n",
    "  \n",
    "    #### F1 score reaches its best value at 1 and worst score at 0\n",
    "    #cross_val_scr = cross_val_score(model, X_train, y_train, cv=test_cv, scoring=\"f1_weighted\")\n",
    "    \n",
    "    #print(\"---\",\"F-mesure\",\"---\")\n",
    "    #print(\"   Scores       :\", cross_val_scr)\n",
    "    #print(\"   Mean         :\"  , cross_val_scr.mean())\n",
    "    #print(\"   Std deviation:\", cross_val_scr.std())\n",
    "\n",
    "    \n",
    "    # The kappa statistic, which is a number between -1 and 1. The maximum value means complete agreement; zero or lower means chance agreement.\n",
    "    #y_train_pred = cross_val_predict(model, X_train, y_train, cv=test_cv)\n",
    "    #print(\"\\n------\",\"Metrics\",\"------\")\n",
    "    #print(\"   balanced acc :\",balanced_accuracy_score(y_train, y_train_pred, adjusted=False))\n",
    "    #print(\"   f1 score     :\",f1_score(y_train, y_train_pred,average=\"weighted\"))\n",
    "    #print(\"   Kappa        :\", cohen_kappa_score(y_train, y_train_pred))\n",
    "    \n",
    "    \n"
   ]
  },
  {
   "cell_type": "markdown",
   "metadata": {},
   "source": [
    "\n",
    "## Random Forest Classifier"
   ]
  },
  {
   "cell_type": "code",
   "execution_count": 51,
   "metadata": {},
   "outputs": [
    {
     "name": "stdout",
     "output_type": "stream",
     "text": [
      "--- balanced_accuracy ---\n",
      "   Scores       : [0.7802391  0.80534459 0.7020875 ]\n",
      "   Mean         : 0.7625570607249488\n",
      "   Std deviation: 0.04396966704198279\n",
      "--- F-mesure ---\n",
      "   Scores       : [0.88452561 0.91186035 0.88562034]\n",
      "   Mean         : 0.8940021004059696\n",
      "   Std deviation: 0.012635598538928889\n",
      "\n",
      "------ Metrics ------\n",
      "   balanced acc : 0.7593935493098763\n",
      "   f1 score     : 0.8942605529078077\n",
      "   Kappa        : 0.7051046529137177\n"
     ]
    }
   ],
   "source": [
    "from sklearn.ensemble import RandomForestClassifier\n",
    "\n",
    "forest_clf = RandomForestClassifier(n_estimators=100, random_state=42)\n",
    "\n",
    "#cross_val_score(model, X_train, y_train, cv=test_cv, scoring=\"balanced_accuracy\")\n",
    "PrintMetricsCV(forest_clf, X_train, y_train, 3)"
   ]
  },
  {
   "cell_type": "code",
   "execution_count": 52,
   "metadata": {},
   "outputs": [
    {
     "name": "stdout",
     "output_type": "stream",
     "text": [
      "--- balanced_accuracy ---\n",
      "   Best Params    : {'max_features': 4, 'n_estimators': 10}\n",
      "   Best estimator : RandomForestClassifier(max_features=4, n_estimators=10, random_state=42)\n",
      "0.6383559108742319 {'max_features': 2, 'n_estimators': 3}\n",
      "0.7244195227872776 {'max_features': 2, 'n_estimators': 10}\n",
      "0.7625570607249488 {'max_features': 2, 'n_estimators': 30}\n",
      "0.6803501369457399 {'max_features': 4, 'n_estimators': 3}\n",
      "0.7857527080711625 {'max_features': 4, 'n_estimators': 10}\n",
      "0.7711476299750784 {'max_features': 4, 'n_estimators': 30}\n",
      "0.7181249537345473 {'max_features': 6, 'n_estimators': 3}\n",
      "0.7476719224220889 {'max_features': 6, 'n_estimators': 10}\n",
      "0.7638932069978038 {'max_features': 6, 'n_estimators': 30}\n",
      "0.6864201643348878 {'max_features': 8, 'n_estimators': 3}\n",
      "0.7641152811705775 {'max_features': 8, 'n_estimators': 10}\n",
      "0.752782095886693 {'max_features': 8, 'n_estimators': 30}\n",
      "0.731380314358329 {'bootstrap': False, 'max_features': 2, 'n_estimators': 3}\n",
      "0.7405569126755003 {'bootstrap': False, 'max_features': 2, 'n_estimators': 10}\n",
      "0.7260480667209515 {'bootstrap': False, 'max_features': 3, 'n_estimators': 3}\n",
      "0.7669985441804229 {'bootstrap': False, 'max_features': 3, 'n_estimators': 10}\n",
      "0.7266328620425889 {'bootstrap': False, 'max_features': 4, 'n_estimators': 3}\n",
      "0.7377439731537 {'bootstrap': False, 'max_features': 4, 'n_estimators': 10}\n"
     ]
    }
   ],
   "source": [
    "from sklearn.model_selection import GridSearchCV\n",
    "from sklearn.ensemble import RandomForestClassifier\n",
    "\n",
    "param_grid = [\n",
    "{'n_estimators': [3, 10, 30], 'max_features': [2, 4, 6, 8]},\n",
    "{'bootstrap': [False], 'n_estimators': [3, 10], 'max_features': [2, 3, 4]},\n",
    "]\n",
    "\n",
    "forest_clf = RandomForestClassifier(n_estimators=100, random_state=42)\n",
    "\n",
    "# GridSearchCV(model, param, cv=test_cv, scoring='balanced_accuracy', return_train_score=True)\n",
    "PrintMetricsGS(forest_clf, param_grid, X_train, y_train, 3)"
   ]
  },
  {
   "cell_type": "code",
   "execution_count": 53,
   "metadata": {},
   "outputs": [
    {
     "name": "stdout",
     "output_type": "stream",
     "text": [
      "--- balanced_accuracy ---\n",
      "   Best Params    : {'n_estimators': 10, 'max_features': 4}\n",
      "   Best estimator : RandomForestClassifier(max_features=4, n_estimators=10, random_state=42)\n",
      "0.7857527080711625 {'n_estimators': 10, 'max_features': 4}\n",
      "0.7638932069978038 {'n_estimators': 30, 'max_features': 6}\n",
      "0.7377439731537 {'n_estimators': 10, 'max_features': 4, 'bootstrap': False}\n",
      "0.7260480667209515 {'n_estimators': 3, 'max_features': 3, 'bootstrap': False}\n",
      "0.6383559108742319 {'n_estimators': 3, 'max_features': 2}\n",
      "0.7641152811705775 {'n_estimators': 10, 'max_features': 8}\n",
      "0.6803501369457399 {'n_estimators': 3, 'max_features': 4}\n",
      "0.6864201643348878 {'n_estimators': 3, 'max_features': 8}\n",
      "0.731380314358329 {'n_estimators': 3, 'max_features': 2, 'bootstrap': False}\n",
      "0.7476719224220889 {'n_estimators': 10, 'max_features': 6}\n"
     ]
    }
   ],
   "source": [
    "from sklearn.model_selection import RandomizedSearchCV\n",
    "from sklearn.ensemble import RandomForestClassifier\n",
    "\n",
    "param_grid = [\n",
    "{'n_estimators': [3, 10, 30], 'max_features': [2, 4, 6, 8]},\n",
    "{'bootstrap': [False], 'n_estimators': [3, 10], 'max_features': [2, 3, 4]},\n",
    "]\n",
    "\n",
    "forest_clf = RandomForestClassifier(n_estimators=100, random_state=42)\n",
    "\n",
    "### RandomizedSearchCV(model, param, n_iter = test_iter, cv=test_cv, scoring='balanced_accuracy', return_train_score=True)\n",
    "PrintMetricsRS(forest_clf, param_grid, X_train, y_train, 3, 10)"
   ]
  },
  {
   "cell_type": "code",
   "execution_count": 54,
   "metadata": {},
   "outputs": [
    {
     "name": "stderr",
     "output_type": "stream",
     "text": [
      "/home/rmoraes/anaconda3/envs/PjAd/lib/python3.10/site-packages/sklearn/model_selection/_split.py:700: UserWarning: The least populated class in y has only 2 members, which is less than n_splits=3.\n",
      "  warnings.warn(\n"
     ]
    },
    {
     "name": "stdout",
     "output_type": "stream",
     "text": [
      "--- balanced_accuracy ---\n",
      "   Scores       : [0.51666667 0.45       0.6       ]\n",
      "   Mean         : 0.5222222222222223\n",
      "   Std deviation: 0.06136311676215148\n"
     ]
    },
    {
     "name": "stderr",
     "output_type": "stream",
     "text": [
      "/home/rmoraes/anaconda3/envs/PjAd/lib/python3.10/site-packages/sklearn/model_selection/_split.py:700: UserWarning: The least populated class in y has only 2 members, which is less than n_splits=3.\n",
      "  warnings.warn(\n"
     ]
    },
    {
     "name": "stdout",
     "output_type": "stream",
     "text": [
      "--- F-mesure ---\n",
      "   Scores       : [0.82833021 0.78144078 0.72913753]\n",
      "   Mean         : 0.7796361723190991\n",
      "   Std deviation: 0.040515340840588165\n"
     ]
    },
    {
     "name": "stderr",
     "output_type": "stream",
     "text": [
      "/home/rmoraes/anaconda3/envs/PjAd/lib/python3.10/site-packages/sklearn/model_selection/_split.py:700: UserWarning: The least populated class in y has only 2 members, which is less than n_splits=3.\n",
      "  warnings.warn(\n"
     ]
    },
    {
     "name": "stdout",
     "output_type": "stream",
     "text": [
      "\n",
      "------ Metrics ------\n",
      "   balanced acc : 0.45555555555555555\n",
      "   f1 score     : 0.7807110921865021\n",
      "   Kappa        : 0.3790322580645161\n"
     ]
    }
   ],
   "source": [
    "PrintMetricsCV(forest_clf, X_tune, y_tune, 3)"
   ]
  },
  {
   "cell_type": "code",
   "execution_count": 55,
   "metadata": {},
   "outputs": [
    {
     "name": "stderr",
     "output_type": "stream",
     "text": [
      "/home/rmoraes/anaconda3/envs/PjAd/lib/python3.10/site-packages/sklearn/model_selection/_split.py:700: UserWarning: The least populated class in y has only 2 members, which is less than n_splits=3.\n",
      "  warnings.warn(\n"
     ]
    },
    {
     "name": "stdout",
     "output_type": "stream",
     "text": [
      "--- balanced_accuracy ---\n",
      "   Best Params    : {'bootstrap': False, 'max_features': 2, 'n_estimators': 3}\n",
      "   Best estimator : RandomForestClassifier(bootstrap=False, max_features=2, n_estimators=3,\n",
      "                       random_state=42)\n",
      "0.625 {'max_features': 2, 'n_estimators': 3}\n",
      "0.5222222222222223 {'max_features': 2, 'n_estimators': 10}\n",
      "0.5277777777777778 {'max_features': 2, 'n_estimators': 30}\n",
      "0.4583333333333333 {'max_features': 4, 'n_estimators': 3}\n",
      "0.5583333333333332 {'max_features': 4, 'n_estimators': 10}\n",
      "0.5055555555555555 {'max_features': 4, 'n_estimators': 30}\n",
      "0.5555555555555556 {'max_features': 6, 'n_estimators': 3}\n",
      "0.4861111111111111 {'max_features': 6, 'n_estimators': 10}\n",
      "0.46388888888888885 {'max_features': 6, 'n_estimators': 30}\n",
      "0.5555555555555556 {'max_features': 8, 'n_estimators': 3}\n",
      "0.6333333333333334 {'max_features': 8, 'n_estimators': 10}\n",
      "0.5 {'max_features': 8, 'n_estimators': 30}\n",
      "0.6861111111111112 {'bootstrap': False, 'max_features': 2, 'n_estimators': 3}\n",
      "0.5833333333333334 {'bootstrap': False, 'max_features': 2, 'n_estimators': 10}\n",
      "0.49444444444444446 {'bootstrap': False, 'max_features': 3, 'n_estimators': 3}\n",
      "0.5555555555555556 {'bootstrap': False, 'max_features': 3, 'n_estimators': 10}\n",
      "0.625 {'bootstrap': False, 'max_features': 4, 'n_estimators': 3}\n",
      "0.6055555555555556 {'bootstrap': False, 'max_features': 4, 'n_estimators': 10}\n"
     ]
    }
   ],
   "source": [
    "PrintMetricsGS(forest_clf, param_grid, X_tune, y_tune, 3)"
   ]
  },
  {
   "cell_type": "code",
   "execution_count": 56,
   "metadata": {},
   "outputs": [
    {
     "name": "stderr",
     "output_type": "stream",
     "text": [
      "/home/rmoraes/anaconda3/envs/PjAd/lib/python3.10/site-packages/sklearn/model_selection/_split.py:700: UserWarning: The least populated class in y has only 2 members, which is less than n_splits=3.\n",
      "  warnings.warn(\n"
     ]
    },
    {
     "name": "stdout",
     "output_type": "stream",
     "text": [
      "--- balanced_accuracy ---\n",
      "   Best Params    : {'n_estimators': 3, 'max_features': 4, 'bootstrap': False}\n",
      "   Best estimator : RandomForestClassifier(bootstrap=False, max_features=4, n_estimators=3,\n",
      "                       random_state=42)\n",
      "0.5833333333333334 {'n_estimators': 10, 'max_features': 2, 'bootstrap': False}\n",
      "0.5055555555555555 {'n_estimators': 30, 'max_features': 4}\n",
      "0.5555555555555556 {'n_estimators': 3, 'max_features': 6}\n",
      "0.4583333333333333 {'n_estimators': 3, 'max_features': 4}\n",
      "0.5 {'n_estimators': 30, 'max_features': 8}\n",
      "0.4861111111111111 {'n_estimators': 10, 'max_features': 6}\n",
      "0.46388888888888885 {'n_estimators': 30, 'max_features': 6}\n",
      "0.5277777777777778 {'n_estimators': 30, 'max_features': 2}\n",
      "0.625 {'n_estimators': 3, 'max_features': 4, 'bootstrap': False}\n",
      "0.5583333333333332 {'n_estimators': 10, 'max_features': 4}\n"
     ]
    }
   ],
   "source": [
    "PrintMetricsRS(forest_clf, param_grid, X_tune, y_tune, 3, 10)"
   ]
  },
  {
   "cell_type": "code",
   "execution_count": null,
   "metadata": {},
   "outputs": [],
   "source": []
  },
  {
   "cell_type": "code",
   "execution_count": null,
   "metadata": {},
   "outputs": [],
   "source": []
  },
  {
   "cell_type": "code",
   "execution_count": null,
   "metadata": {},
   "outputs": [],
   "source": []
  }
 ],
 "metadata": {
  "kernelspec": {
   "display_name": "Python 3 (ipykernel)",
   "language": "python",
   "name": "python3"
  },
  "language_info": {
   "codemirror_mode": {
    "name": "ipython",
    "version": 3
   },
   "file_extension": ".py",
   "mimetype": "text/x-python",
   "name": "python",
   "nbconvert_exporter": "python",
   "pygments_lexer": "ipython3",
   "version": "3.10.9"
  },
  "nav_menu": {
   "height": "279px",
   "width": "309px"
  },
  "toc": {
   "nav_menu": {},
   "number_sections": true,
   "sideBar": true,
   "skip_h1_title": false,
   "toc_cell": false,
   "toc_position": {},
   "toc_section_display": "block",
   "toc_window_display": false
  }
 },
 "nbformat": 4,
 "nbformat_minor": 4
}
